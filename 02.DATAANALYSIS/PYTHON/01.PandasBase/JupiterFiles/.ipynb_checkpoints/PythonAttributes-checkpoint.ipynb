{
 "cells": [
  {
   "cell_type": "code",
   "execution_count": 1,
   "id": "3c5a7ff8-f167-4d23-9269-59cd528c3c0d",
   "metadata": {},
   "outputs": [],
   "source": [
    "# Python Attributes"
   ]
  },
  {
   "cell_type": "code",
   "execution_count": null,
   "id": "553d8d44-d673-4c7b-8950-5c3885fa24f7",
   "metadata": {},
   "outputs": [],
   "source": []
  },
  {
   "cell_type": "code",
   "execution_count": 9,
   "id": "7bfa9c1b-44f1-4089-b5f8-dbea41253ef9",
   "metadata": {},
   "outputs": [],
   "source": [
    "# Quasi tutti gli elementi in Python sono oggetti. Ciascun oggetto in python contiene:\n",
    "#  DATI\n",
    "#  METADATI (Ossia informazioni sui dati)\n",
    "#  FUNZIONI\n",
    "\n",
    "# In sintesi, un attributo è una variabile che fornisce i metadati ad un oggetto\n",
    "# Un metodo, invece, è una funzione associata ad un oggetto"
   ]
  },
  {
   "cell_type": "code",
   "execution_count": 133,
   "id": "0460339f-f7b0-4f7c-94b4-2fb84db9a2d6",
   "metadata": {},
   "outputs": [],
   "source": [
    "import pandas as pd"
   ]
  },
  {
   "cell_type": "code",
   "execution_count": 135,
   "id": "27645807-6908-466e-a624-98d15e723b9a",
   "metadata": {},
   "outputs": [],
   "source": [
    "punteggi = [32.12,63.89,85.38,5.33,10.41]"
   ]
  },
  {
   "cell_type": "code",
   "execution_count": 137,
   "id": "847d9856-6022-4647-aaea-ca9ce048384c",
   "metadata": {},
   "outputs": [],
   "source": [
    "serie_punteggi = pd.Series(punteggi)"
   ]
  },
  {
   "cell_type": "code",
   "execution_count": 139,
   "id": "feb7019a-2e30-4ab6-b2dc-be2036c57921",
   "metadata": {},
   "outputs": [
    {
     "data": {
      "text/plain": [
       "0    32.12\n",
       "1    63.89\n",
       "2    85.38\n",
       "3     5.33\n",
       "4    10.41\n",
       "dtype: float64"
      ]
     },
     "execution_count": 139,
     "metadata": {},
     "output_type": "execute_result"
    }
   ],
   "source": [
    "serie_punteggi"
   ]
  },
  {
   "cell_type": "code",
   "execution_count": 21,
   "id": "2ef99214-3eaf-4feb-9015-59a45dce5963",
   "metadata": {},
   "outputs": [],
   "source": [
    "# Come sappiamo, la prima colonna contiene gli indici e la seconda colonna contiene i punteggi"
   ]
  },
  {
   "cell_type": "code",
   "execution_count": 25,
   "id": "f49cc7eb-ded4-4b9e-af09-e7b239eb3315",
   "metadata": {},
   "outputs": [],
   "source": [
    "# Da come si vede, il tipo della \"tabella\" mostrata è di tipo float: Si vede nella riga al di sotto della tabella. \n",
    "# serie_punteggi, infatti, è di tipo dtype: float64"
   ]
  },
  {
   "cell_type": "code",
   "execution_count": null,
   "id": "e00ad7b0-fed6-4587-8610-95072fe58af6",
   "metadata": {},
   "outputs": [],
   "source": []
  },
  {
   "cell_type": "code",
   "execution_count": 35,
   "id": "458d8306-94ba-48c4-9cc9-e525715336c3",
   "metadata": {},
   "outputs": [],
   "source": [
    "# Possiamo utilizzare il metodo dtype per stampare solo il tipo della \"tabella\". dtype è infatti il diminutivo di data type."
   ]
  },
  {
   "cell_type": "code",
   "execution_count": null,
   "id": "ab90d9bf-f5ee-4974-b397-5c999edac000",
   "metadata": {},
   "outputs": [],
   "source": []
  },
  {
   "cell_type": "code",
   "execution_count": 141,
   "id": "b84bb5f4-9e71-4949-b751-dfd78e2692b3",
   "metadata": {},
   "outputs": [
    {
     "data": {
      "text/plain": [
       "dtype('float64')"
      ]
     },
     "execution_count": 141,
     "metadata": {},
     "output_type": "execute_result"
    }
   ],
   "source": [
    "serie_punteggi.dtype"
   ]
  },
  {
   "cell_type": "code",
   "execution_count": null,
   "id": "abc016ac-16bb-4d9a-aa86-841fe74a74cf",
   "metadata": {},
   "outputs": [],
   "source": []
  },
  {
   "cell_type": "code",
   "execution_count": 41,
   "id": "5ade798f-bbae-4553-9424-fe31035c36f4",
   "metadata": {},
   "outputs": [],
   "source": [
    "# Vediamo ora il numero di righe della nostra \"tabella\" con le funzione .size .  Si ricordi che il termine tabella è \n",
    "# improprio. In realtà stiamo lavorando con una serie di tipo Pandas!!!\n"
   ]
  },
  {
   "cell_type": "code",
   "execution_count": null,
   "id": "1ea4d4b1-d165-40c7-99bf-9ec0714df09d",
   "metadata": {},
   "outputs": [],
   "source": []
  },
  {
   "cell_type": "code",
   "execution_count": 143,
   "id": "8586e0fa-6ded-4419-9419-3f3415560c40",
   "metadata": {},
   "outputs": [
    {
     "data": {
      "text/plain": [
       "5"
      ]
     },
     "execution_count": 143,
     "metadata": {},
     "output_type": "execute_result"
    }
   ],
   "source": [
    "serie_punteggi.size"
   ]
  },
  {
   "cell_type": "code",
   "execution_count": null,
   "id": "b32e8ea1-e0ff-47ca-acad-665bd720c795",
   "metadata": {},
   "outputs": [],
   "source": []
  },
  {
   "cell_type": "code",
   "execution_count": 47,
   "id": "018b947c-d84a-4392-994c-9e41b3a9107c",
   "metadata": {},
   "outputs": [],
   "source": [
    "# La nostra \"tabella\" ha quindi 5 righe!!!"
   ]
  },
  {
   "cell_type": "code",
   "execution_count": null,
   "id": "b60a06ca-b9e4-40c7-bc0a-347009d29c3c",
   "metadata": {},
   "outputs": [],
   "source": []
  },
  {
   "cell_type": "code",
   "execution_count": 49,
   "id": "c3135f66-9732-4d56-a6d5-d8a49762214e",
   "metadata": {},
   "outputs": [],
   "source": [
    "# In sintesi: serie_punteggi è una \"tabella\" è composta da 5 righe e 2 colonne. Nella prima riga abbiamo gli indici, nella\n",
    "# seconda abbiamo serie_punteggi. La funzione dtype ci dice che serie_punteggi è di tipo float e la funzione size ci dice che \n",
    "# abbiamo 5 righe."
   ]
  },
  {
   "cell_type": "code",
   "execution_count": null,
   "id": "33f975ea-3eb0-4e61-b667-687e2b89cdfb",
   "metadata": {},
   "outputs": [],
   "source": []
  },
  {
   "cell_type": "code",
   "execution_count": 51,
   "id": "27e26c0c-44c7-4cfe-a25f-186b6325e4af",
   "metadata": {},
   "outputs": [],
   "source": [
    "# Consideriamo ora un'altra serie pandas. I suoi elementi saranno stringhe."
   ]
  },
  {
   "cell_type": "code",
   "execution_count": null,
   "id": "9d155068-dc11-4cc7-a371-529c7eb51894",
   "metadata": {},
   "outputs": [],
   "source": []
  },
  {
   "cell_type": "code",
   "execution_count": 145,
   "id": "46242bed-c45e-4af8-9cf0-ed20a4c8de8c",
   "metadata": {},
   "outputs": [],
   "source": [
    "studenti = ['Adele','Alfonso','Alessandro','Jacopo','Matteo']"
   ]
  },
  {
   "cell_type": "code",
   "execution_count": 147,
   "id": "5ed868c6-bc8b-46bb-adaa-1325e4ef7018",
   "metadata": {},
   "outputs": [],
   "source": [
    "serie_studenti = pd.Series(studenti)"
   ]
  },
  {
   "cell_type": "code",
   "execution_count": 149,
   "id": "161a5177-e249-41c8-828c-84494ef16396",
   "metadata": {},
   "outputs": [
    {
     "data": {
      "text/plain": [
       "0         Adele\n",
       "1       Alfonso\n",
       "2    Alessandro\n",
       "3        Jacopo\n",
       "4        Matteo\n",
       "dtype: object"
      ]
     },
     "execution_count": 149,
     "metadata": {},
     "output_type": "execute_result"
    }
   ],
   "source": [
    "serie_studenti"
   ]
  },
  {
   "cell_type": "code",
   "execution_count": null,
   "id": "90c02e75-c5aa-4a82-a602-c9a7daee0ded",
   "metadata": {},
   "outputs": [],
   "source": []
  },
  {
   "cell_type": "code",
   "execution_count": 21,
   "id": "038c7c32-d5e3-4718-914b-ae65bd148247",
   "metadata": {},
   "outputs": [],
   "source": [
    "# Numero di righe di serie_studenti"
   ]
  },
  {
   "cell_type": "code",
   "execution_count": 151,
   "id": "1dbfe40d-2dd2-42af-b76e-33cbc34aa745",
   "metadata": {},
   "outputs": [
    {
     "data": {
      "text/plain": [
       "5"
      ]
     },
     "execution_count": 151,
     "metadata": {},
     "output_type": "execute_result"
    }
   ],
   "source": [
    "serie_studenti.size"
   ]
  },
  {
   "cell_type": "code",
   "execution_count": null,
   "id": "8ca5d93e-b7ff-4bc2-9ad5-3e3e7be3f0a3",
   "metadata": {},
   "outputs": [],
   "source": []
  },
  {
   "cell_type": "code",
   "execution_count": 25,
   "id": "f4a053a9-dca7-49d1-a56f-4016b100dcda",
   "metadata": {},
   "outputs": [],
   "source": [
    "# Tipo di dati in serie_studenti"
   ]
  },
  {
   "cell_type": "code",
   "execution_count": 153,
   "id": "43931f1d-7fb3-468d-9284-c5c3bf70f470",
   "metadata": {},
   "outputs": [
    {
     "data": {
      "text/plain": [
       "dtype('O')"
      ]
     },
     "execution_count": 153,
     "metadata": {},
     "output_type": "execute_result"
    }
   ],
   "source": [
    "serie_studenti.dtype"
   ]
  },
  {
   "cell_type": "code",
   "execution_count": 29,
   "id": "a6e8a5d0-ccd7-4b53-9486-53a7bf7126f6",
   "metadata": {},
   "outputs": [],
   "source": [
    "# Dove O sta per Object. Si ricordi che qualsiasi serie NON CONTENTENTE valori numerici sarà di tipo Object."
   ]
  },
  {
   "cell_type": "code",
   "execution_count": null,
   "id": "b44372a4-5564-49a3-a91d-6e362689d723",
   "metadata": {},
   "outputs": [],
   "source": []
  },
  {
   "cell_type": "code",
   "execution_count": 71,
   "id": "252170bb-0b25-47cb-8ecb-504113a7878e",
   "metadata": {},
   "outputs": [],
   "source": [
    "# Risulta immediato vedere che serie_studenti.size è di tipo int"
   ]
  },
  {
   "cell_type": "code",
   "execution_count": 31,
   "id": "332d15cd-325e-4553-b79a-c802e3deff6c",
   "metadata": {},
   "outputs": [
    {
     "data": {
      "text/plain": [
       "int"
      ]
     },
     "execution_count": 31,
     "metadata": {},
     "output_type": "execute_result"
    }
   ],
   "source": [
    "type(serie_studenti.size)"
   ]
  },
  {
   "cell_type": "code",
   "execution_count": null,
   "id": "88fc4837-2a67-4fbc-8090-434ccc9308aa",
   "metadata": {},
   "outputs": [],
   "source": []
  },
  {
   "cell_type": "code",
   "execution_count": 89,
   "id": "bcfaad45-25df-4cda-a0bb-7366f574ca09",
   "metadata": {},
   "outputs": [],
   "source": [
    "# Aggiungiamo ora un elemento alla nostra Series. Supponiamo si voler inserire al suo interno uno studente con un punteggio\n",
    "# ridicolo. Chiameremo questa variabile 'studente_stupido'"
   ]
  },
  {
   "cell_type": "code",
   "execution_count": null,
   "id": "bfcb57eb-df56-4db2-bb2d-928bb27d1854",
   "metadata": {},
   "outputs": [],
   "source": []
  },
  {
   "cell_type": "code",
   "execution_count": 155,
   "id": "4f9ab311-6c8b-4c0f-8133-faa41c700f69",
   "metadata": {},
   "outputs": [],
   "source": [
    "serie_studenti.stupido = \"Gizzi\""
   ]
  },
  {
   "cell_type": "code",
   "execution_count": null,
   "id": "ae8362df-76e4-4fc4-bfc9-b9f91cdf2837",
   "metadata": {},
   "outputs": [],
   "source": []
  },
  {
   "cell_type": "code",
   "execution_count": 93,
   "id": "12e5e638-3c06-4395-8f6d-e93dde6ee84f",
   "metadata": {},
   "outputs": [],
   "source": [
    "# Stampiamo la nostra Series:"
   ]
  },
  {
   "cell_type": "code",
   "execution_count": 157,
   "id": "a2ece445-d302-4433-af29-dcd642193163",
   "metadata": {},
   "outputs": [
    {
     "data": {
      "text/plain": [
       "0         Adele\n",
       "1       Alfonso\n",
       "2    Alessandro\n",
       "3        Jacopo\n",
       "4        Matteo\n",
       "dtype: object"
      ]
     },
     "execution_count": 157,
     "metadata": {},
     "output_type": "execute_result"
    }
   ],
   "source": [
    "serie_studenti"
   ]
  },
  {
   "cell_type": "code",
   "execution_count": 97,
   "id": "8e93e2a1-9e1f-4921-8889-d1fa95e37a55",
   "metadata": {},
   "outputs": [],
   "source": [
    "# La nostra serie non è cambiata. Ma siamo sicuri? Richiamiamo serie_studenti.studente_stupido"
   ]
  },
  {
   "cell_type": "code",
   "execution_count": null,
   "id": "4f0705be-5ffe-469c-bc9b-d96db7f9b622",
   "metadata": {},
   "outputs": [],
   "source": []
  },
  {
   "cell_type": "code",
   "execution_count": 127,
   "id": "04c7554c-283a-4f0c-bd4c-e359751f948b",
   "metadata": {},
   "outputs": [
    {
     "data": {
      "text/plain": [
       "'Gizzi'"
      ]
     },
     "execution_count": 127,
     "metadata": {},
     "output_type": "execute_result"
    }
   ],
   "source": [
    "serie_studenti.stupido"
   ]
  },
  {
   "cell_type": "code",
   "execution_count": null,
   "id": "b9f9e872-6392-4575-af5f-dcfcdf208ae8",
   "metadata": {},
   "outputs": [],
   "source": []
  },
  {
   "cell_type": "code",
   "execution_count": 125,
   "id": "1455f2be-a66d-4c72-9ae7-8ac4973c659b",
   "metadata": {},
   "outputs": [],
   "source": [
    "# Quindi, in realtà, la chiave studente_stupido è stata aggiunta alla Series serie_studenti. Quindi perché non l'ha\n",
    "# Stampato? Boh"
   ]
  },
  {
   "cell_type": "code",
   "execution_count": null,
   "id": "403240ed-614b-49da-917e-8181137d1225",
   "metadata": {},
   "outputs": [],
   "source": []
  },
  {
   "cell_type": "code",
   "execution_count": 53,
   "id": "49d4b494-5ae8-4300-924d-1956d5341955",
   "metadata": {},
   "outputs": [],
   "source": [
    "# ESERCIZI"
   ]
  },
  {
   "cell_type": "code",
   "execution_count": null,
   "id": "6db15b94-47cc-448d-8c1d-e52284cb8b5f",
   "metadata": {},
   "outputs": [],
   "source": []
  },
  {
   "cell_type": "code",
   "execution_count": 55,
   "id": "0a180c57-e6df-4620-a7f5-aa69f0076163",
   "metadata": {},
   "outputs": [],
   "source": [
    "# Esercizio 1"
   ]
  },
  {
   "cell_type": "markdown",
   "id": "a1ca9af5-afb5-4702-aead-36f489e2c275",
   "metadata": {},
   "source": [
    "Create a Pandas Series object, called work_experience_years, which should contain the following integers in the given order: 5, 8, 3, and 10.\r\n",
    "\r\n",
    "Please don't forget to use the print() function to print out the desired output."
   ]
  },
  {
   "cell_type": "code",
   "execution_count": 58,
   "id": "46d42fde-e838-49b4-8d00-8bcc9eacb5cd",
   "metadata": {},
   "outputs": [],
   "source": [
    "# Soluzione 1"
   ]
  },
  {
   "cell_type": "code",
   "execution_count": 66,
   "id": "7803a6cc-9f4a-4e40-8a44-92d84bf0d0db",
   "metadata": {},
   "outputs": [
    {
     "name": "stdout",
     "output_type": "stream",
     "text": [
      "0     5\n",
      "1     8\n",
      "2     3\n",
      "3    10\n",
      "dtype: int64\n"
     ]
    }
   ],
   "source": [
    "import pandas as pd\n",
    "\n",
    "work_experience_years = pd.Series([5,8,3,10])\n",
    "\n",
    "print(work_experience_years)"
   ]
  },
  {
   "cell_type": "code",
   "execution_count": 68,
   "id": "2aec80fb-b7d6-42cf-83d9-94e850dfad08",
   "metadata": {},
   "outputs": [],
   "source": []
  },
  {
   "cell_type": "code",
   "execution_count": 70,
   "id": "1d08321c-548f-4f7d-b430-03c99a580926",
   "metadata": {},
   "outputs": [],
   "source": [
    "# ESERCIZIO 2"
   ]
  },
  {
   "cell_type": "markdown",
   "id": "5be1db36-04b9-40f1-9e87-7d7a34ca2278",
   "metadata": {},
   "source": [
    "Convert the work_experience_years object from a Pandas Series into a NumPy array. Accomplish this task without overwriting the contents of work_experience_years."
   ]
  },
  {
   "cell_type": "code",
   "execution_count": 75,
   "id": "29985e3a-17c0-4af5-8b6e-3fe38028f596",
   "metadata": {},
   "outputs": [],
   "source": [
    "# SOLUZIONE 2"
   ]
  },
  {
   "cell_type": "code",
   "execution_count": 73,
   "id": "72647c19-98e4-427f-942a-43e567efc1ec",
   "metadata": {},
   "outputs": [
    {
     "name": "stdout",
     "output_type": "stream",
     "text": [
      "[ 5  8  3 10]\n"
     ]
    }
   ],
   "source": [
    "import pandas as pd\n",
    "import numpy as np\n",
    "\n",
    "work_experience_years = pd.Series([5,8,3,10])\n",
    "\n",
    "\n",
    "print(work_experience_years.to_numpy())\n"
   ]
  },
  {
   "cell_type": "code",
   "execution_count": null,
   "id": "aef720c0-4944-42f5-8fa1-af3538cc39d8",
   "metadata": {},
   "outputs": [],
   "source": []
  },
  {
   "cell_type": "code",
   "execution_count": 77,
   "id": "77d2fbaf-8538-42ff-bf74-dff1cff23eb8",
   "metadata": {},
   "outputs": [],
   "source": [
    "# ESERCIZIO 3"
   ]
  },
  {
   "cell_type": "markdown",
   "id": "a26f1d5a-2b0f-4074-b8a7-5ffb960d087f",
   "metadata": {},
   "source": [
    "Check the type of the following object: work_experience_years.to_numpy()."
   ]
  },
  {
   "cell_type": "code",
   "execution_count": 80,
   "id": "20b61bb9-fa03-483f-a098-08c9cde5cb02",
   "metadata": {},
   "outputs": [],
   "source": [
    "# SOLUZIONE 3"
   ]
  },
  {
   "cell_type": "code",
   "execution_count": 82,
   "id": "5e52829e-d9c1-4f96-9e27-fce363e4542c",
   "metadata": {},
   "outputs": [
    {
     "name": "stdout",
     "output_type": "stream",
     "text": [
      "<class 'numpy.ndarray'>\n"
     ]
    }
   ],
   "source": [
    "import pandas as pd\n",
    "\n",
    "work_experience_years = pd.Series([5,8,3,10])\n",
    "\n",
    "\n",
    "print(type(work_experience_years.to_numpy()))"
   ]
  },
  {
   "cell_type": "code",
   "execution_count": null,
   "id": "702e9de9-383e-4b94-b3d2-4d9ef45d4233",
   "metadata": {},
   "outputs": [],
   "source": []
  },
  {
   "cell_type": "code",
   "execution_count": 84,
   "id": "c3c72adf-ca72-4e6f-ae66-e006e502d666",
   "metadata": {},
   "outputs": [],
   "source": [
    "# ESERCIZIO 4"
   ]
  },
  {
   "cell_type": "markdown",
   "id": "83f50094-2518-431f-86ad-aee302fd771f",
   "metadata": {},
   "source": [
    "Use an attribute to find the number of elements in the underlying data (work_experience_years)."
   ]
  },
  {
   "cell_type": "code",
   "execution_count": 87,
   "id": "474e7df0-6a84-462a-98e0-1db26c1dece9",
   "metadata": {},
   "outputs": [],
   "source": [
    "# SOLUZIONE 4"
   ]
  },
  {
   "cell_type": "code",
   "execution_count": 89,
   "id": "3c13a506-2281-49b0-a4c4-e29bd4b197d9",
   "metadata": {},
   "outputs": [
    {
     "name": "stdout",
     "output_type": "stream",
     "text": [
      "4\n"
     ]
    }
   ],
   "source": [
    "import pandas as pd\n",
    "\n",
    "work_experience_years = pd.Series([5,8,3,10])\n",
    "\n",
    "print(work_experience_years.size)"
   ]
  },
  {
   "cell_type": "code",
   "execution_count": null,
   "id": "92589f92-3dc4-4ccc-af9a-de464ae82637",
   "metadata": {},
   "outputs": [],
   "source": []
  },
  {
   "cell_type": "code",
   "execution_count": 91,
   "id": "ace79282-7cc4-432b-ba64-836d27a09c17",
   "metadata": {},
   "outputs": [],
   "source": [
    "# ESERCIZIO 5"
   ]
  },
  {
   "cell_type": "markdown",
   "id": "e8d66436-71c2-4916-81a6-b9c1ea6d7c00",
   "metadata": {},
   "source": [
    "Assign the name 'Work Experience (Yrs.)' to the work_experience_years Series."
   ]
  },
  {
   "cell_type": "code",
   "execution_count": 95,
   "id": "aaba24b1-0a0b-46f0-9c8b-a41fb529ac6e",
   "metadata": {},
   "outputs": [],
   "source": [
    "# SOLUZIONE 5"
   ]
  },
  {
   "cell_type": "code",
   "execution_count": 100,
   "id": "ae8c0964-c5a4-4f30-b0cf-15c641a3db04",
   "metadata": {},
   "outputs": [
    {
     "name": "stdout",
     "output_type": "stream",
     "text": [
      "0     5\n",
      "1     8\n",
      "2     3\n",
      "3    10\n",
      "Name: Work Experience (Yrs.), dtype: int64\n"
     ]
    }
   ],
   "source": [
    "import pandas as pd\n",
    " \n",
    "work_experience_years = pd.Series([5,8,3,10])\n",
    "work_experience_years.name = \"Work Experience (Yrs.)\"\n",
    "\n",
    "print(work_experience_years)\n"
   ]
  },
  {
   "cell_type": "code",
   "execution_count": null,
   "id": "6e4928c9-7d60-4afe-8c2b-40e91f6c1e96",
   "metadata": {},
   "outputs": [],
   "source": []
  },
  {
   "cell_type": "code",
   "execution_count": 102,
   "id": "1225a48e-86aa-411e-8535-70be385f0bea",
   "metadata": {},
   "outputs": [],
   "source": [
    "# ESERCIZIO 6"
   ]
  },
  {
   "cell_type": "markdown",
   "id": "f01f14b0-344c-4ef3-902c-527ddf957274",
   "metadata": {},
   "source": [
    "Display the name of the Series."
   ]
  },
  {
   "cell_type": "code",
   "execution_count": 110,
   "id": "ade51452-fec8-43f6-8374-df145aad0ace",
   "metadata": {},
   "outputs": [],
   "source": [
    "# SOLUZIONE 6"
   ]
  },
  {
   "cell_type": "code",
   "execution_count": 112,
   "id": "b1624785-97f1-418b-be9f-8cae5386be8a",
   "metadata": {},
   "outputs": [
    {
     "name": "stdout",
     "output_type": "stream",
     "text": [
      "Work Experience (Yrs.)\n"
     ]
    }
   ],
   "source": [
    "import pandas as pd\n",
    "\n",
    "work_experience_years = pd.Series([5,8,3,10])\n",
    "work_experience_years.name = \"Work Experience (Yrs.)\"\n",
    "\n",
    "print(work_experience_years.name)"
   ]
  },
  {
   "cell_type": "code",
   "execution_count": null,
   "id": "9493a3cb-84d1-4f78-8f06-0f2f8df6c111",
   "metadata": {},
   "outputs": [],
   "source": []
  },
  {
   "cell_type": "code",
   "execution_count": 114,
   "id": "69b743f2-d65b-4361-867e-b29b7f47225d",
   "metadata": {},
   "outputs": [],
   "source": [
    "# ESERCIZIO 7"
   ]
  },
  {
   "cell_type": "markdown",
   "id": "e1fa3636-82ce-48e5-8f80-9575dc46affe",
   "metadata": {},
   "source": [
    "Display the Series itself, to see the name appear below the data values it contains."
   ]
  },
  {
   "cell_type": "code",
   "execution_count": 117,
   "id": "b80e9a1c-5367-4023-af05-5f0fb5862fa6",
   "metadata": {},
   "outputs": [],
   "source": [
    "# SOLUZIONE 7"
   ]
  },
  {
   "cell_type": "code",
   "execution_count": 119,
   "id": "d86510f4-d318-42ec-a591-5c2d8f69d89f",
   "metadata": {},
   "outputs": [
    {
     "name": "stdout",
     "output_type": "stream",
     "text": [
      "0     5\n",
      "1     8\n",
      "2     3\n",
      "3    10\n",
      "Name: Work Experience (Yrs.), dtype: int64\n"
     ]
    }
   ],
   "source": [
    "import pandas as pd\n",
    "\n",
    "work_experience_years = pd.Series([5,8,3,10])\n",
    "work_experience_years.name = \"Work Experience (Yrs.)\"\n",
    "\n",
    "print(work_experience_years)"
   ]
  },
  {
   "cell_type": "code",
   "execution_count": null,
   "id": "bb5e6527-efa4-4b7d-95f0-4a2e9c7c5bd2",
   "metadata": {},
   "outputs": [],
   "source": []
  },
  {
   "cell_type": "code",
   "execution_count": null,
   "id": "e3ed8c69-f8ac-412a-892f-cc02f64f4a28",
   "metadata": {},
   "outputs": [],
   "source": []
  },
  {
   "cell_type": "code",
   "execution_count": null,
   "id": "d03c1d1f-6586-4385-a73b-8b5363ca097f",
   "metadata": {},
   "outputs": [],
   "source": []
  },
  {
   "cell_type": "code",
   "execution_count": null,
   "id": "f6d2b077-1daa-4ab0-8c74-bc42f4dba312",
   "metadata": {},
   "outputs": [],
   "source": []
  },
  {
   "cell_type": "code",
   "execution_count": null,
   "id": "64ab3f13-5c2e-4cb0-b45f-bd4e4be67fb6",
   "metadata": {},
   "outputs": [],
   "source": []
  },
  {
   "cell_type": "code",
   "execution_count": null,
   "id": "48872f7a-6a6f-4c36-88de-7a4e8bd0704c",
   "metadata": {},
   "outputs": [],
   "source": []
  },
  {
   "cell_type": "code",
   "execution_count": null,
   "id": "e3973e1c-8177-4bf9-bbf2-a620b7fe480a",
   "metadata": {},
   "outputs": [],
   "source": []
  },
  {
   "cell_type": "code",
   "execution_count": null,
   "id": "4e4dff38-b41d-4318-89f3-eaa73d9f8d61",
   "metadata": {},
   "outputs": [],
   "source": []
  },
  {
   "cell_type": "code",
   "execution_count": null,
   "id": "4d615879-1489-470f-920c-c2ab9ba2a801",
   "metadata": {},
   "outputs": [],
   "source": []
  }
 ],
 "metadata": {
  "kernelspec": {
   "display_name": "Python 3 (ipykernel)",
   "language": "python",
   "name": "python3"
  },
  "language_info": {
   "codemirror_mode": {
    "name": "ipython",
    "version": 3
   },
   "file_extension": ".py",
   "mimetype": "text/x-python",
   "name": "python",
   "nbconvert_exporter": "python",
   "pygments_lexer": "ipython3",
   "version": "3.12.4"
  }
 },
 "nbformat": 4,
 "nbformat_minor": 5
}
