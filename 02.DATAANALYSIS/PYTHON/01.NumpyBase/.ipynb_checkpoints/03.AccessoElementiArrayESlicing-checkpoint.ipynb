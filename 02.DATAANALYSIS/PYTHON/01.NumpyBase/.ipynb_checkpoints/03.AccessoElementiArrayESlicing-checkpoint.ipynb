{
 "cells": [
  {
   "cell_type": "code",
   "execution_count": 3,
   "id": "c1eb16cc-ebdc-43ee-aea2-c6a16fa4cd62",
   "metadata": {},
   "outputs": [],
   "source": [
    "import numpy as np"
   ]
  },
  {
   "cell_type": "code",
   "execution_count": null,
   "id": "d3eb1390-0027-4225-9af0-6df2fc5d2892",
   "metadata": {},
   "outputs": [],
   "source": [
    "# Iniziamo con l'accesso ad elementi "
   ]
  },
  {
   "cell_type": "code",
   "execution_count": 9,
   "id": "31d56c8f-9d7f-47f6-9504-a112b818db9b",
   "metadata": {},
   "outputs": [],
   "source": [
    "frutta = np.array([\"mela\",\"pera\",\"banana\",\"kiwi\",\"mandorla\",\"arancia\",\"limone\",\"cocco\",\"anguria\"])"
   ]
  },
  {
   "cell_type": "code",
   "execution_count": 11,
   "id": "859f25da-eb29-4231-9f78-34fbc083f5f9",
   "metadata": {},
   "outputs": [],
   "source": [
    "banana = frutta[2]"
   ]
  },
  {
   "cell_type": "code",
   "execution_count": 13,
   "id": "b8644be5-47e7-4c07-891a-54dba9e5cde1",
   "metadata": {},
   "outputs": [
    {
     "data": {
      "text/plain": [
       "'banana'"
      ]
     },
     "execution_count": 13,
     "metadata": {},
     "output_type": "execute_result"
    }
   ],
   "source": [
    "banana"
   ]
  },
  {
   "cell_type": "code",
   "execution_count": 15,
   "id": "5373b843-0b76-45e6-86f3-1e4075f08c88",
   "metadata": {},
   "outputs": [],
   "source": [
    "mandorla = frutta[4]"
   ]
  },
  {
   "cell_type": "code",
   "execution_count": 17,
   "id": "71eee973-6341-46ce-8573-921362643e5d",
   "metadata": {},
   "outputs": [
    {
     "data": {
      "text/plain": [
       "'mandorla'"
      ]
     },
     "execution_count": 17,
     "metadata": {},
     "output_type": "execute_result"
    }
   ],
   "source": [
    "mandorla"
   ]
  },
  {
   "cell_type": "code",
   "execution_count": 21,
   "id": "076fe02f-4b53-4fc0-b3c8-627104b79d0e",
   "metadata": {},
   "outputs": [],
   "source": [
    "anguria = frutta[8] \n",
    "# oppure\n",
    "anguriaB = frutta[-1]"
   ]
  },
  {
   "cell_type": "code",
   "execution_count": 23,
   "id": "df126e37-824c-44c1-b84f-f80fe44beee1",
   "metadata": {},
   "outputs": [
    {
     "data": {
      "text/plain": [
       "'anguria'"
      ]
     },
     "execution_count": 23,
     "metadata": {},
     "output_type": "execute_result"
    }
   ],
   "source": [
    "anguria"
   ]
  },
  {
   "cell_type": "code",
   "execution_count": 25,
   "id": "1878c31c-5be6-4e66-8f50-24184e72c243",
   "metadata": {},
   "outputs": [
    {
     "data": {
      "text/plain": [
       "'anguria'"
      ]
     },
     "execution_count": 25,
     "metadata": {},
     "output_type": "execute_result"
    }
   ],
   "source": [
    "anguriaB"
   ]
  },
  {
   "cell_type": "code",
   "execution_count": null,
   "id": "00a7d3c5-1cf5-44ac-b6b6-5c6b721b2bf4",
   "metadata": {},
   "outputs": [],
   "source": []
  },
  {
   "cell_type": "code",
   "execution_count": 31,
   "id": "d878ff4b-a1cd-4ada-a7b8-8389db662fc6",
   "metadata": {},
   "outputs": [],
   "source": [
    "# Prendiamo ora un sottoinsieme di elementi presenti nel nostro array frutta-\n",
    "# La formula è la seguente:\n",
    "# frutta[limInf : limSup+1]\n",
    "\n",
    "# Quindi, se volessimo estrarre il sottoinsieme di elementi da mela a mandorla, dovremmo inserire il seguente codice:\n",
    "# frutta[0:4+1]\n",
    "# ==> frutta[0:5]"
   ]
  },
  {
   "cell_type": "code",
   "execution_count": 27,
   "id": "489afa61-ea00-4631-9820-1412fc596b2e",
   "metadata": {},
   "outputs": [],
   "source": [
    "da_mela_mandorla = frutta[0:5]"
   ]
  },
  {
   "cell_type": "code",
   "execution_count": 29,
   "id": "15c7b674-d9d4-451a-88d0-b03cafe2e10a",
   "metadata": {},
   "outputs": [
    {
     "data": {
      "text/plain": [
       "array(['mela', 'pera', 'banana', 'kiwi', 'mandorla'], dtype='<U8')"
      ]
     },
     "execution_count": 29,
     "metadata": {},
     "output_type": "execute_result"
    }
   ],
   "source": [
    "da_mela_mandorla"
   ]
  }
 ],
 "metadata": {
  "kernelspec": {
   "display_name": "Python 3 (ipykernel)",
   "language": "python",
   "name": "python3"
  },
  "language_info": {
   "codemirror_mode": {
    "name": "ipython",
    "version": 3
   },
   "file_extension": ".py",
   "mimetype": "text/x-python",
   "name": "python",
   "nbconvert_exporter": "python",
   "pygments_lexer": "ipython3",
   "version": "3.12.4"
  }
 },
 "nbformat": 4,
 "nbformat_minor": 5
}
