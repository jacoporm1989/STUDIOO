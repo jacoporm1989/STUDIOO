{
 "cells": [
  {
   "cell_type": "code",
   "execution_count": 4,
   "id": "5b0b50af-382e-4dd7-b699-2a84a873acb7",
   "metadata": {},
   "outputs": [],
   "source": [
    "import numpy as np"
   ]
  },
  {
   "cell_type": "code",
   "execution_count": 8,
   "id": "5b44c384-33b9-4ac0-9ec5-64695c3030da",
   "metadata": {},
   "outputs": [],
   "source": [
    "random = np.random"
   ]
  },
  {
   "cell_type": "code",
   "execution_count": 12,
   "id": "14c1e2ab-73c8-46d8-81d4-ae8a3599db8d",
   "metadata": {},
   "outputs": [
    {
     "ename": "ImportError",
     "evalue": "cannot import name 'default_nrg' from 'random' (C:\\Users\\jgian\\anaconda3\\Lib\\random.py)",
     "output_type": "error",
     "traceback": [
      "\u001b[1;31m---------------------------------------------------------------------------\u001b[0m",
      "\u001b[1;31mImportError\u001b[0m                               Traceback (most recent call last)",
      "Cell \u001b[1;32mIn[12], line 1\u001b[0m\n\u001b[1;32m----> 1\u001b[0m \u001b[38;5;28;01mfrom\u001b[39;00m \u001b[38;5;21;01mrandom\u001b[39;00m \u001b[38;5;28;01mimport\u001b[39;00m default_nrg\n",
      "\u001b[1;31mImportError\u001b[0m: cannot import name 'default_nrg' from 'random' (C:\\Users\\jgian\\anaconda3\\Lib\\random.py)"
     ]
    }
   ],
   "source": [
    "from random import default_nrg"
   ]
  },
  {
   "cell_type": "code",
   "execution_count": 14,
   "id": "87f2d40d-a9ea-466f-8862-37e25259444e",
   "metadata": {},
   "outputs": [
    {
     "ename": "AttributeError",
     "evalue": "module 'numpy.random' has no attribute 'default_nrg'",
     "output_type": "error",
     "traceback": [
      "\u001b[1;31m---------------------------------------------------------------------------\u001b[0m",
      "\u001b[1;31mAttributeError\u001b[0m                            Traceback (most recent call last)",
      "Cell \u001b[1;32mIn[14], line 1\u001b[0m\n\u001b[1;32m----> 1\u001b[0m random\u001b[38;5;241m.\u001b[39mdefault_nrg\n",
      "\u001b[1;31mAttributeError\u001b[0m: module 'numpy.random' has no attribute 'default_nrg'"
     ]
    }
   ],
   "source": [
    "random.default_nrg"
   ]
  }
 ],
 "metadata": {
  "kernelspec": {
   "display_name": "Python 3 (ipykernel)",
   "language": "python",
   "name": "python3"
  },
  "language_info": {
   "codemirror_mode": {
    "name": "ipython",
    "version": 3
   },
   "file_extension": ".py",
   "mimetype": "text/x-python",
   "name": "python",
   "nbconvert_exporter": "python",
   "pygments_lexer": "ipython3",
   "version": "3.12.4"
  }
 },
 "nbformat": 4,
 "nbformat_minor": 5
}
