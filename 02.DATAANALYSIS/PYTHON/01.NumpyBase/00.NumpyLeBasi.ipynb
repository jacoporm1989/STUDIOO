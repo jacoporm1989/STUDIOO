{
 "cells": [
  {
   "cell_type": "markdown",
   "id": "10954b2d-3de0-4b9d-8760-d19dbb7d5d35",
   "metadata": {},
   "source": [
    "Gli array numpy sono dei container con un'ampiezza fissa contenenti elementi. Rispetto alle liste di python base o alle tuple \n",
    "sono più efficienti nel processare dati. In particolare:\n",
    "- Possono immagazzinare un solo tipo di dato (Tipi di dati di vario tipo possono essere immagazzinati come stringhe)\n",
    "- Possono essere unidimensionali o multidimensionali\n",
    "- Gli elemeenti presenti nell'array possono essere modificati, ma il numero di elementi è fisso\n",
    "  "
   ]
  },
  {
   "cell_type": "code",
   "execution_count": null,
   "id": "b2db726a-e1b9-48ba-b7f4-d0350ffa8ac4",
   "metadata": {},
   "outputs": [],
   "source": []
  },
  {
   "cell_type": "code",
   "execution_count": null,
   "id": "c0974747-b47d-4bdc-bcf4-6c5d38bb3392",
   "metadata": {},
   "outputs": [],
   "source": []
  },
  {
   "cell_type": "markdown",
   "id": "6539577e-1026-439c-89eb-f02e92b54c55",
   "metadata": {},
   "source": [
    "Partiamo da una lista in python base e trasformiamola in un array pandas:"
   ]
  },
  {
   "cell_type": "code",
   "execution_count": 7,
   "id": "e609d542-5c80-4d4a-8269-c865de6b299e",
   "metadata": {},
   "outputs": [],
   "source": [
    "import numpy as np"
   ]
  },
  {
   "cell_type": "code",
   "execution_count": 11,
   "id": "441ab5c6-182f-43df-9531-03c35d637995",
   "metadata": {},
   "outputs": [],
   "source": [
    "animali = [\"canarino\",\"culbianco\",\"capibara\",\"cinciallegra\"]"
   ]
  },
  {
   "cell_type": "code",
   "execution_count": 13,
   "id": "7d86e598-6971-49ee-8758-87ddb1fd7aaf",
   "metadata": {},
   "outputs": [],
   "source": [
    "animali_array = np.array(animali)"
   ]
  },
  {
   "cell_type": "code",
   "execution_count": 15,
   "id": "7ae07832-36f8-4919-bca5-faa677a6aeb9",
   "metadata": {},
   "outputs": [
    {
     "data": {
      "text/plain": [
       "array(['canarino', 'culbianco', 'capibara', 'cinciallegra'], dtype='<U12')"
      ]
     },
     "execution_count": 15,
     "metadata": {},
     "output_type": "execute_result"
    }
   ],
   "source": [
    "animali_array"
   ]
  },
  {
   "cell_type": "code",
   "execution_count": null,
   "id": "82980cc0-45e2-4d82-9ce6-6575b3368fc9",
   "metadata": {},
   "outputs": [],
   "source": []
  },
  {
   "cell_type": "markdown",
   "id": "7741f6a4-98e2-4357-a24c-05e83240af77",
   "metadata": {},
   "source": [
    "Le proprietà chiave degli array pandas sono:\n",
    "- ndim ==> Il numero delle dimensioni degli array\n",
    "- shape ==> La lunghezza di ciascuna dimensione dell'array\n",
    "- size ==> il numero totale di elementi presenti in un array\n",
    "- dtype ==> Il tipo di dato degli elementi presenti nell'array"
   ]
  },
  {
   "cell_type": "code",
   "execution_count": null,
   "id": "9415f025-9916-4cfb-adef-c47c57aadf8a",
   "metadata": {},
   "outputs": [],
   "source": []
  },
  {
   "cell_type": "markdown",
   "id": "8bf19faf-5949-48eb-9843-be679573dc15",
   "metadata": {},
   "source": [
    "Ripartiamo dal nostro array animali_array"
   ]
  },
  {
   "cell_type": "code",
   "execution_count": 19,
   "id": "19e3bb17-3712-46ea-ad9e-3d8f5dcfbb69",
   "metadata": {},
   "outputs": [
    {
     "data": {
      "text/plain": [
       "array(['canarino', 'culbianco', 'capibara', 'cinciallegra'], dtype='<U12')"
      ]
     },
     "execution_count": 19,
     "metadata": {},
     "output_type": "execute_result"
    }
   ],
   "source": [
    "animali_array"
   ]
  },
  {
   "cell_type": "code",
   "execution_count": null,
   "id": "a318d82f-726f-429a-be05-9fe22a7740af",
   "metadata": {},
   "outputs": [],
   "source": []
  },
  {
   "cell_type": "code",
   "execution_count": 21,
   "id": "d432ffd1-fd26-4695-8355-f5854e8043d1",
   "metadata": {},
   "outputs": [
    {
     "data": {
      "text/plain": [
       "numpy.ndarray"
      ]
     },
     "execution_count": 21,
     "metadata": {},
     "output_type": "execute_result"
    }
   ],
   "source": [
    "type(animali_array)"
   ]
  },
  {
   "cell_type": "markdown",
   "id": "c2797dff-bc4b-4cc1-a576-3df26fbeae6d",
   "metadata": {},
   "source": [
    "ndarray è un tipo di dato che significa n-dimensional array"
   ]
  },
  {
   "cell_type": "code",
   "execution_count": null,
   "id": "b4e8d7e8-8968-4406-b9d5-d8429cafa4e8",
   "metadata": {},
   "outputs": [],
   "source": []
  },
  {
   "cell_type": "code",
   "execution_count": 26,
   "id": "c02c1fe5-4fab-41cc-a865-2ee77a61269b",
   "metadata": {},
   "outputs": [
    {
     "data": {
      "text/plain": [
       "1"
      ]
     },
     "execution_count": 26,
     "metadata": {},
     "output_type": "execute_result"
    }
   ],
   "source": [
    "animali_array.ndim"
   ]
  },
  {
   "cell_type": "code",
   "execution_count": null,
   "id": "13974ea4-83ea-40a6-bb78-867a351c8e3b",
   "metadata": {},
   "outputs": [],
   "source": []
  },
  {
   "cell_type": "code",
   "execution_count": 28,
   "id": "c9309132-da68-4970-ab15-b243608c952d",
   "metadata": {},
   "outputs": [
    {
     "data": {
      "text/plain": [
       "(4,)"
      ]
     },
     "execution_count": 28,
     "metadata": {},
     "output_type": "execute_result"
    }
   ],
   "source": [
    "animali_array.shape"
   ]
  },
  {
   "cell_type": "code",
   "execution_count": null,
   "id": "ae243ac6-cb9e-4d00-baae-c2783484cdcb",
   "metadata": {},
   "outputs": [],
   "source": []
  },
  {
   "cell_type": "code",
   "execution_count": 30,
   "id": "360d022e-b251-4481-ad8c-54acf37fd1d2",
   "metadata": {},
   "outputs": [
    {
     "data": {
      "text/plain": [
       "4"
      ]
     },
     "execution_count": 30,
     "metadata": {},
     "output_type": "execute_result"
    }
   ],
   "source": [
    "animali_array.size"
   ]
  },
  {
   "cell_type": "code",
   "execution_count": null,
   "id": "75402df5-805b-4499-b534-8c3d8e2d7810",
   "metadata": {},
   "outputs": [],
   "source": []
  },
  {
   "cell_type": "code",
   "execution_count": 32,
   "id": "156cc276-2327-4950-abb5-ee31df029fdc",
   "metadata": {},
   "outputs": [
    {
     "data": {
      "text/plain": [
       "dtype('<U12')"
      ]
     },
     "execution_count": 32,
     "metadata": {},
     "output_type": "execute_result"
    }
   ],
   "source": [
    "animali_array.dtype"
   ]
  },
  {
   "cell_type": "markdown",
   "id": "5f8f040b-9043-4ca9-bb0f-59b996c67bf2",
   "metadata": {},
   "source": [
    "Spieghiamo le funzioni viste:\n",
    "- La proprietà ndim ci dice che animali_array ha una sola dimensione\n",
    "- La proprietù shape ci dice che la dimensione del nostro array è composta da quattro elementi\n",
    "- La proprietà size ci dice che, in totale, il nostro array ha 4 elementi\n",
    "- La proprietà dtype ci dice che il tipo di tutti i dati presenti nel nostro array è <U12'. Questo tipo di dato è presente solo in numpy"
   ]
  },
  {
   "cell_type": "code",
   "execution_count": null,
   "id": "80860ecb-51e6-4d23-b22d-bc747b6ef55c",
   "metadata": {},
   "outputs": [],
   "source": []
  },
  {
   "cell_type": "markdown",
   "id": "ff4841a2-27c1-4c47-804d-51f2f6951d88",
   "metadata": {},
   "source": [
    "Passiamo ora ad un array bidimensionale. Supponiamo di avere una lista di animali posseduti da Gino,\n",
    "una lista di animali posseduti\n",
    "da Fabrizio e una lista per Ascanio. Si ricordi che, affinche sia possibile creare un array, gli elementi presenti in ciascua lista\n",
    "devono essere di pari numero\n"
   ]
  },
  {
   "cell_type": "code",
   "execution_count": null,
   "id": "c8fe9588-0330-4ca1-b0c6-645470ff1d26",
   "metadata": {},
   "outputs": [],
   "source": []
  },
  {
   "cell_type": "code",
   "execution_count": 106,
   "id": "3b30396c-78b3-4c8d-b6bf-5d28787fdf2d",
   "metadata": {},
   "outputs": [],
   "source": [
    "animali_gino = [\"cane\",\"gatto\"]"
   ]
  },
  {
   "cell_type": "code",
   "execution_count": 108,
   "id": "a913c2ed-9286-4e94-901c-b95fc1001046",
   "metadata": {},
   "outputs": [],
   "source": [
    "animali_fabrizio = [\"capibara\",\"casatoro\"]"
   ]
  },
  {
   "cell_type": "code",
   "execution_count": 125,
   "id": "67aace75-c984-47f2-a324-2e2c615a42fc",
   "metadata": {},
   "outputs": [],
   "source": [
    "animali_ascanio = [\"culbianco\",\"kiwi\"]"
   ]
  },
  {
   "cell_type": "code",
   "execution_count": 127,
   "id": "d936b023-1d2b-46db-b36f-991fadc7729f",
   "metadata": {},
   "outputs": [],
   "source": [
    "animali_studenti = [animali_gino,animali_fabrizio,animali_ascanio]"
   ]
  },
  {
   "cell_type": "code",
   "execution_count": 129,
   "id": "d83fc329-187c-4a0b-83ff-54e7c869edcb",
   "metadata": {},
   "outputs": [
    {
     "data": {
      "text/plain": [
       "[['cane', 'gatto'], ['capibara', 'casatoro'], ['culbianco', 'kiwi']]"
      ]
     },
     "execution_count": 129,
     "metadata": {},
     "output_type": "execute_result"
    }
   ],
   "source": [
    "animali_studenti"
   ]
  },
  {
   "cell_type": "code",
   "execution_count": 131,
   "id": "8e4160b3-82da-4d41-a53a-64018834547f",
   "metadata": {},
   "outputs": [],
   "source": [
    "animali_studenti_array = np.array(animali_studenti)"
   ]
  },
  {
   "cell_type": "code",
   "execution_count": 147,
   "id": "7fca084e-709e-42c5-a342-bb54b8a6ad53",
   "metadata": {
    "scrolled": true
   },
   "outputs": [
    {
     "data": {
      "text/plain": [
       "array([['cane', 'gatto'],\n",
       "       ['capibara', 'casatoro'],\n",
       "       ['culbianco', 'kiwi']], dtype='<U9')"
      ]
     },
     "execution_count": 147,
     "metadata": {},
     "output_type": "execute_result"
    }
   ],
   "source": [
    "animali_studenti_array"
   ]
  },
  {
   "cell_type": "markdown",
   "id": "7efc55a7-8197-4061-843a-b91998ff6e75",
   "metadata": {},
   "source": [
    "Vediamone le proprietà"
   ]
  },
  {
   "cell_type": "code",
   "execution_count": null,
   "id": "c4296a1e-2896-44c8-81b5-a558f423c32d",
   "metadata": {},
   "outputs": [],
   "source": []
  },
  {
   "cell_type": "code",
   "execution_count": 206,
   "id": "66480756-9938-477d-ae41-3407b222e553",
   "metadata": {},
   "outputs": [
    {
     "data": {
      "text/plain": [
       "2"
      ]
     },
     "execution_count": 206,
     "metadata": {},
     "output_type": "execute_result"
    }
   ],
   "source": [
    "animali_studenti_array.ndim"
   ]
  },
  {
   "cell_type": "code",
   "execution_count": null,
   "id": "cd8bc9de-20c5-4995-8e88-7ab42ffc90d6",
   "metadata": {},
   "outputs": [],
   "source": []
  },
  {
   "cell_type": "code",
   "execution_count": 208,
   "id": "1513f403-e6ab-493f-adf9-e1b64177f94e",
   "metadata": {},
   "outputs": [
    {
     "data": {
      "text/plain": [
       "(3, 2)"
      ]
     },
     "execution_count": 208,
     "metadata": {},
     "output_type": "execute_result"
    }
   ],
   "source": [
    "animali_studenti_array.shape"
   ]
  },
  {
   "cell_type": "code",
   "execution_count": null,
   "id": "39eac94b-c0b6-43d7-b548-892ad35fb45e",
   "metadata": {},
   "outputs": [],
   "source": []
  },
  {
   "cell_type": "code",
   "execution_count": 210,
   "id": "2e1373f3-74ba-4e15-be0b-3243b8dd809c",
   "metadata": {},
   "outputs": [
    {
     "data": {
      "text/plain": [
       "6"
      ]
     },
     "execution_count": 210,
     "metadata": {},
     "output_type": "execute_result"
    }
   ],
   "source": [
    "animali_studenti_array.size"
   ]
  },
  {
   "cell_type": "code",
   "execution_count": null,
   "id": "3970bae1-1b71-41ff-96d3-e7a5f4358e12",
   "metadata": {},
   "outputs": [],
   "source": []
  },
  {
   "cell_type": "code",
   "execution_count": null,
   "id": "baa66149-8b14-4366-8893-1ea9a4f4ad7e",
   "metadata": {},
   "outputs": [],
   "source": [
    "animali_studenti_array.dtype"
   ]
  },
  {
   "cell_type": "code",
   "execution_count": null,
   "id": "858295b8-dacf-4424-9038-07af892b069e",
   "metadata": {},
   "outputs": [],
   "source": []
  },
  {
   "cell_type": "markdown",
   "id": "fa817554-6671-4142-8668-da57bae7c04e",
   "metadata": {},
   "source": [
    "Quindi, un array di tipo numpy è una lista base di n liste base di python"
   ]
  },
  {
   "cell_type": "code",
   "execution_count": null,
   "id": "bc22f0ab-9acf-4796-b506-c5aed6f6f4ab",
   "metadata": {},
   "outputs": [],
   "source": []
  },
  {
   "cell_type": "markdown",
   "id": "75ef6edf-578a-4ee9-80f8-d27954a854dc",
   "metadata": {},
   "source": [
    "Riprendiamo in considerazione i nostri animali_gino, animali_fabrizio, animali_ascanio"
   ]
  },
  {
   "cell_type": "code",
   "execution_count": null,
   "id": "548626c5-4406-461b-8ca5-fce995be3518",
   "metadata": {},
   "outputs": [],
   "source": []
  },
  {
   "cell_type": "code",
   "execution_count": 137,
   "id": "a24eaa23-cd25-4f6f-8f8d-0fc1278911db",
   "metadata": {},
   "outputs": [],
   "source": [
    "# Creazione array unidimensionale con animali_gino:\n",
    "\n",
    "animali_gino_array = np.array(animali_gino)"
   ]
  },
  {
   "cell_type": "code",
   "execution_count": 139,
   "id": "7b6b6a59-c0c2-4c1e-9e64-d2e5bf4fc4ba",
   "metadata": {},
   "outputs": [
    {
     "data": {
      "text/plain": [
       "array(['cane', 'gatto'], dtype='<U5')"
      ]
     },
     "execution_count": 139,
     "metadata": {},
     "output_type": "execute_result"
    }
   ],
   "source": [
    "animali_gino_array"
   ]
  },
  {
   "cell_type": "code",
   "execution_count": null,
   "id": "4b81e847-5db6-444a-9174-825ca97aa735",
   "metadata": {},
   "outputs": [],
   "source": []
  },
  {
   "cell_type": "code",
   "execution_count": null,
   "id": "635ed8e2-35c5-4265-8f14-9c26719f5120",
   "metadata": {},
   "outputs": [],
   "source": [
    "# A partire da un array bidimensionale, la sintassi cambia leggermente\n",
    "\n",
    "animali_gino_fabrizio_array = np.array([animali_gino,animali_fabrizio])"
   ]
  },
  {
   "cell_type": "code",
   "execution_count": 151,
   "id": "1f1d3d0e-0aa5-459d-be95-7aec6db2103e",
   "metadata": {},
   "outputs": [
    {
     "data": {
      "text/plain": [
       "array([['cane', 'gatto'],\n",
       "       ['capibara', 'casatoro']], dtype='<U8')"
      ]
     },
     "execution_count": 151,
     "metadata": {},
     "output_type": "execute_result"
    }
   ],
   "source": [
    "animali_gino_fabrizio_array"
   ]
  },
  {
   "cell_type": "markdown",
   "id": "076460d2-2907-4b77-93f6-38a4df79ce10",
   "metadata": {},
   "source": []
  },
  {
   "cell_type": "markdown",
   "id": "47ec1155-87b2-4dd5-98be-64c1ad33bafe",
   "metadata": {},
   "source": [
    "In sintesi, se vogliamo creare un array di tipo numpy a partire da due o più liste, siamo costretti ad inserire\n",
    "tali liste tra parentesi quadre"
   ]
  },
  {
   "cell_type": "code",
   "execution_count": null,
   "id": "7de6f21b-9802-4457-b6f4-c7c683dfa193",
   "metadata": {},
   "outputs": [],
   "source": []
  },
  {
   "cell_type": "markdown",
   "id": "1712abcd-4ac3-4be0-b207-6a6c4c5cbe07",
   "metadata": {},
   "source": [
    "FUNZIONE RANGE\n",
    "\n",
    "Quando si lavora, può convenire fare delle prove creando una sequenza di numeri casuali, invece di creare\n",
    "gli array ogni volta. Uno di questi modi è l'utilizzo della funzione range"
   ]
  },
  {
   "cell_type": "code",
   "execution_count": 154,
   "id": "862ba3b1-a614-4fb8-872e-bad6dfdf0ea8",
   "metadata": {},
   "outputs": [
    {
     "data": {
      "text/plain": [
       "range(0, 6)"
      ]
     },
     "execution_count": 154,
     "metadata": {},
     "output_type": "execute_result"
    }
   ],
   "source": [
    "range(6)"
   ]
  },
  {
   "cell_type": "code",
   "execution_count": null,
   "id": "d8b3d414-817b-4360-b663-3c963fe19f6e",
   "metadata": {},
   "outputs": [],
   "source": []
  },
  {
   "cell_type": "code",
   "execution_count": 172,
   "id": "76392568-be0f-44ce-bdbf-f419cbcb693b",
   "metadata": {},
   "outputs": [],
   "source": [
    "array_uni= np.array(range(4))"
   ]
  },
  {
   "cell_type": "code",
   "execution_count": 174,
   "id": "dc03165e-fd33-4b3a-855c-2f6847e5184b",
   "metadata": {},
   "outputs": [
    {
     "data": {
      "text/plain": [
       "array([0, 1, 2, 3])"
      ]
     },
     "execution_count": 174,
     "metadata": {},
     "output_type": "execute_result"
    }
   ],
   "source": [
    "array_uni"
   ]
  },
  {
   "cell_type": "code",
   "execution_count": 176,
   "id": "cddb3404-a2a7-467d-9013-9249e84ffdcd",
   "metadata": {},
   "outputs": [],
   "source": [
    "array_bi = np.array([range(4),range(4)])"
   ]
  },
  {
   "cell_type": "code",
   "execution_count": 191,
   "id": "8ad0a985-8727-4301-ba82-8675484786e3",
   "metadata": {},
   "outputs": [
    {
     "data": {
      "text/plain": [
       "array([[0, 1, 2, 3],\n",
       "       [0, 1, 2, 3]])"
      ]
     },
     "execution_count": 191,
     "metadata": {},
     "output_type": "execute_result"
    }
   ],
   "source": [
    "array_bi"
   ]
  },
  {
   "cell_type": "code",
   "execution_count": null,
   "id": "8d3322ef-cf06-4f92-a1f5-ed496cfd8fe9",
   "metadata": {},
   "outputs": [],
   "source": []
  },
  {
   "cell_type": "code",
   "execution_count": 180,
   "id": "2a3361be-44f1-45db-afa4-669be52e2a4b",
   "metadata": {},
   "outputs": [
    {
     "data": {
      "text/plain": [
       "array([[5, 6, 7, 8],\n",
       "       [5, 6, 7, 8]])"
      ]
     },
     "execution_count": 180,
     "metadata": {},
     "output_type": "execute_result"
    }
   ],
   "source": [
    "array_bi + 5"
   ]
  },
  {
   "cell_type": "code",
   "execution_count": null,
   "id": "f81424b4-5970-46a5-844e-f54613f56e91",
   "metadata": {},
   "outputs": [],
   "source": []
  },
  {
   "cell_type": "code",
   "execution_count": 182,
   "id": "efc053a5-1e27-4dde-9beb-2e98d0023e42",
   "metadata": {},
   "outputs": [
    {
     "data": {
      "text/plain": [
       "array([[0. , 0.5, 1. , 1.5],\n",
       "       [0. , 0.5, 1. , 1.5]])"
      ]
     },
     "execution_count": 182,
     "metadata": {},
     "output_type": "execute_result"
    }
   ],
   "source": [
    "0.5*array_bi"
   ]
  },
  {
   "cell_type": "code",
   "execution_count": null,
   "id": "ef83a6c9-abe9-4bf8-a665-fc2e1083495f",
   "metadata": {},
   "outputs": [],
   "source": []
  },
  {
   "cell_type": "code",
   "execution_count": 186,
   "id": "4bffa419-106c-4c56-965b-794cd52418d3",
   "metadata": {},
   "outputs": [
    {
     "data": {
      "text/plain": [
       "array([[ 5,  7,  9, 11],\n",
       "       [ 5,  7,  9, 11]])"
      ]
     },
     "execution_count": 186,
     "metadata": {},
     "output_type": "execute_result"
    }
   ],
   "source": [
    "array_bi + 5 + array_bi"
   ]
  },
  {
   "cell_type": "code",
   "execution_count": null,
   "id": "9a92f91e-63d4-4b81-9f77-dbe5b484b3a2",
   "metadata": {},
   "outputs": [],
   "source": []
  },
  {
   "cell_type": "markdown",
   "id": "96e70ba2-59dd-4b02-b384-6d8da0277458",
   "metadata": {},
   "source": [
    "E' quindi possibile effettuare calcoli sugli array numpy"
   ]
  },
  {
   "cell_type": "code",
   "execution_count": null,
   "id": "0a6aef4c-6e5f-4543-beb9-c6aa01b90c33",
   "metadata": {},
   "outputs": [],
   "source": []
  },
  {
   "cell_type": "markdown",
   "id": "2e22b31e-a56b-4595-bcc4-ecc0b6fbfb63",
   "metadata": {},
   "source": [
    "PROPRIETA FONDAMENTALI DEGLI ARRAY array_b: ndim,shape,size,dtype"
   ]
  },
  {
   "cell_type": "code",
   "execution_count": null,
   "id": "a6485e40-8b95-47d2-b1a7-b936c5e14ae6",
   "metadata": {},
   "outputs": [],
   "source": []
  },
  {
   "cell_type": "code",
   "execution_count": 193,
   "id": "20f5e8af-1a44-4cec-93d6-a1ff6a13039f",
   "metadata": {},
   "outputs": [
    {
     "data": {
      "text/plain": [
       "2"
      ]
     },
     "execution_count": 193,
     "metadata": {},
     "output_type": "execute_result"
    }
   ],
   "source": [
    "array_bi.ndim"
   ]
  },
  {
   "cell_type": "code",
   "execution_count": null,
   "id": "d23cd5b5-bc5d-4438-b4f7-3ffbee93f52e",
   "metadata": {},
   "outputs": [],
   "source": []
  },
  {
   "cell_type": "code",
   "execution_count": 195,
   "id": "6deeb8fa-429d-474f-afc8-9cc8438bd852",
   "metadata": {},
   "outputs": [
    {
     "data": {
      "text/plain": [
       "(2, 4)"
      ]
     },
     "execution_count": 195,
     "metadata": {},
     "output_type": "execute_result"
    }
   ],
   "source": [
    "array_bi.shape"
   ]
  },
  {
   "cell_type": "code",
   "execution_count": null,
   "id": "61ab20c3-2898-4104-9f1a-d2a3d9aeb134",
   "metadata": {},
   "outputs": [],
   "source": []
  },
  {
   "cell_type": "code",
   "execution_count": 197,
   "id": "aa31d784-0e6c-433a-a192-bec593a1792e",
   "metadata": {},
   "outputs": [
    {
     "data": {
      "text/plain": [
       "8"
      ]
     },
     "execution_count": 197,
     "metadata": {},
     "output_type": "execute_result"
    }
   ],
   "source": [
    "array_bi.size"
   ]
  },
  {
   "cell_type": "code",
   "execution_count": null,
   "id": "99cc1d5a-bd72-4794-8e86-fdfdfa3df844",
   "metadata": {},
   "outputs": [],
   "source": []
  },
  {
   "cell_type": "code",
   "execution_count": 203,
   "id": "7e5fbe17-6146-403d-a550-1aa6359bba95",
   "metadata": {},
   "outputs": [
    {
     "data": {
      "text/plain": [
       "dtype('int32')"
      ]
     },
     "execution_count": 203,
     "metadata": {},
     "output_type": "execute_result"
    }
   ],
   "source": [
    "array_bi.dtype"
   ]
  },
  {
   "cell_type": "code",
   "execution_count": null,
   "id": "0a0249cd-4ace-40e0-9431-9d70fa40d024",
   "metadata": {},
   "outputs": [],
   "source": []
  },
  {
   "cell_type": "code",
   "execution_count": null,
   "id": "6af939b0-3a6a-49bf-968d-8fa75cd08592",
   "metadata": {},
   "outputs": [],
   "source": []
  },
  {
   "cell_type": "code",
   "execution_count": null,
   "id": "8fba5cae-af64-411c-8891-10db46ceacb5",
   "metadata": {},
   "outputs": [],
   "source": []
  },
  {
   "cell_type": "markdown",
   "id": "e91b2ed7-b852-455a-bfb9-2bdcabda1ae6",
   "metadata": {},
   "source": [
    "TRASPOSIZIONE"
   ]
  },
  {
   "cell_type": "code",
   "execution_count": 213,
   "id": "29d766f9-99fb-456f-8ca2-8cb252acbcbd",
   "metadata": {},
   "outputs": [
    {
     "data": {
      "text/plain": [
       "array([[0, 1, 2, 3],\n",
       "       [0, 1, 2, 3]])"
      ]
     },
     "execution_count": 213,
     "metadata": {},
     "output_type": "execute_result"
    }
   ],
   "source": [
    "# Riprendiamo il nostro array:\n",
    "array_bi\n"
   ]
  },
  {
   "cell_type": "code",
   "execution_count": 220,
   "id": "921d6a73-c102-4ed9-8f2a-a87e7bc57340",
   "metadata": {},
   "outputs": [],
   "source": [
    "# con la seguente funzione possiamo trasporlo:\n",
    "array_bi_trasposto = array_bi.T\n"
   ]
  },
  {
   "cell_type": "code",
   "execution_count": 222,
   "id": "37efbedb-efc2-452d-ad19-fcc2264b299a",
   "metadata": {},
   "outputs": [
    {
     "data": {
      "text/plain": [
       "array([[0, 0],\n",
       "       [1, 1],\n",
       "       [2, 2],\n",
       "       [3, 3]])"
      ]
     },
     "execution_count": 222,
     "metadata": {},
     "output_type": "execute_result"
    }
   ],
   "source": [
    "array_bi_trasposto"
   ]
  },
  {
   "cell_type": "code",
   "execution_count": null,
   "id": "6a948434-8542-4829-87d8-4ae18c456b37",
   "metadata": {},
   "outputs": [],
   "source": []
  },
  {
   "cell_type": "code",
   "execution_count": 224,
   "id": "91696f33-a19c-4a44-b74a-878d42f88e33",
   "metadata": {},
   "outputs": [
    {
     "data": {
      "text/plain": [
       "(4, 2)"
      ]
     },
     "execution_count": 224,
     "metadata": {},
     "output_type": "execute_result"
    }
   ],
   "source": [
    "array_bi_trasposto.shape"
   ]
  },
  {
   "cell_type": "markdown",
   "id": "f4fd3117-034a-49c9-96fa-c99413b86f5e",
   "metadata": {},
   "source": [
    "Il nuovo array ha infatti 4 righe e 2 colonne. "
   ]
  },
  {
   "cell_type": "code",
   "execution_count": null,
   "id": "2f1c09fc-09ed-491c-836d-25b0024827f7",
   "metadata": {},
   "outputs": [],
   "source": []
  },
  {
   "cell_type": "markdown",
   "id": "aa5e295c-7d91-445e-b38a-30cc7ddade33",
   "metadata": {},
   "source": [
    "Finora abbiamo sempre utilizzato il termine generico array. Entriamo più nel dettaglio\n",
    "\n",
    "- UN ARRAY UNIDIMENSIONALE NUMPY è CHIAMATO ARRAY\n",
    "- UN ARRAY n-dimensionale numpy, con n > 1, è chiamato MATRICE"
   ]
  },
  {
   "cell_type": "code",
   "execution_count": null,
   "id": "2004cbd4-ee94-495b-b413-9489f46399cb",
   "metadata": {},
   "outputs": [],
   "source": []
  },
  {
   "cell_type": "markdown",
   "id": "1a514462-63d2-4601-b990-f6d605f00e27",
   "metadata": {},
   "source": [
    "Continuiamo a vedere le nostre proprietà fondamentali della nostra matrice array_bi_trasposto"
   ]
  },
  {
   "cell_type": "code",
   "execution_count": 230,
   "id": "63cda605-0552-4ed2-a12f-06fa4b3638dd",
   "metadata": {},
   "outputs": [
    {
     "data": {
      "text/plain": [
       "2"
      ]
     },
     "execution_count": 230,
     "metadata": {},
     "output_type": "execute_result"
    }
   ],
   "source": [
    "array_bi_trasposto.ndim"
   ]
  },
  {
   "cell_type": "code",
   "execution_count": 236,
   "id": "cbc2b12f-94fe-42ee-94a9-2efd54d5d8e3",
   "metadata": {},
   "outputs": [
    {
     "data": {
      "text/plain": [
       "8"
      ]
     },
     "execution_count": 236,
     "metadata": {},
     "output_type": "execute_result"
    }
   ],
   "source": [
    "array_bi_trasposto.size"
   ]
  },
  {
   "cell_type": "code",
   "execution_count": 240,
   "id": "23f2e519-758c-4f55-986b-df72de9b784b",
   "metadata": {},
   "outputs": [
    {
     "data": {
      "text/plain": [
       "dtype('int32')"
      ]
     },
     "execution_count": 240,
     "metadata": {},
     "output_type": "execute_result"
    }
   ],
   "source": [
    "array_bi_trasposto.dtype"
   ]
  },
  {
   "cell_type": "code",
   "execution_count": null,
   "id": "3ad7baa2-42ff-4b38-8bd9-966e1963130f",
   "metadata": {},
   "outputs": [],
   "source": []
  },
  {
   "cell_type": "markdown",
   "id": "f7d95c21-6afe-474b-b9bd-011ea5b0bbea",
   "metadata": {},
   "source": [
    "ESERCIZIO 1\n",
    "\r\n",
    "NumPy Arrays\r\n",
    "A NumPy array, 'age_array' has been created from a list of ages.\r\n",
    "\r\n",
    "\r\n",
    "\r\n",
    "Store the size of the array in the variable 'size', and the shape of the array in the variable 'shape', then print both variables.\r\n",
    "\r\n"
   ]
  },
  {
   "cell_type": "markdown",
   "id": "d1569867-5b74-4cca-8f4e-30e985d14a28",
   "metadata": {},
   "source": [
    "SOLUZIONE ESERCIZIO 1"
   ]
  },
  {
   "cell_type": "code",
   "execution_count": 248,
   "id": "290db458-52d8-4350-9602-0b42612d9df8",
   "metadata": {},
   "outputs": [
    {
     "name": "stdout",
     "output_type": "stream",
     "text": [
      "7\n",
      "(7,)\n"
     ]
    }
   ],
   "source": [
    "import numpy as np\n",
    "\n",
    "age_list = [22, 34, 57, 65, 87, 19, 44]\n",
    "\n",
    "age_array = np.array(age_list)\n",
    "\n",
    "size = age_array.size\n",
    "shape = age_array.shape\n",
    "\n",
    "print(size)\n",
    "print(shape)"
   ]
  },
  {
   "cell_type": "code",
   "execution_count": null,
   "id": "3e0480ea-2af0-45ac-8727-2b80402f0aea",
   "metadata": {},
   "outputs": [],
   "source": []
  }
 ],
 "metadata": {
  "kernelspec": {
   "display_name": "Python 3 (ipykernel)",
   "language": "python",
   "name": "python3"
  },
  "language_info": {
   "codemirror_mode": {
    "name": "ipython",
    "version": 3
   },
   "file_extension": ".py",
   "mimetype": "text/x-python",
   "name": "python",
   "nbconvert_exporter": "python",
   "pygments_lexer": "ipython3",
   "version": "3.12.4"
  }
 },
 "nbformat": 4,
 "nbformat_minor": 5
}
