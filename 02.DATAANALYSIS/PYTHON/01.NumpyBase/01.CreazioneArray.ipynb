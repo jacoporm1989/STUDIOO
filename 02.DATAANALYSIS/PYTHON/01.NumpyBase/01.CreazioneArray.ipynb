{
 "cells": [
  {
   "cell_type": "markdown",
   "id": "ee652321-e81b-44f7-9c9a-490a1b56c397",
   "metadata": {},
   "source": [
    "Nella lezione precedente abbiamo creato degli array a partire da liste python base. Ci sono altri modi.\n",
    "\n",
    "1. np.ones((rows,columns),dtype) ==> In questo modo si genera un array i cui elementi sono tutti pari a 1. Se il parametro dtype non viene specificato, questi valori sono espressi con tipo float\n",
    "2. np.zeros((rows,columns),dtype) ==> Stessa cosa di prima, ma invece di creare un array di 1 crea un array di 0.\n",
    "3. np.arange(start,stop,step) ==> Crea un array UNDIMENSIONALE di interi, il cui primo elemento è pari a start e l'ultimo è pari a stop. il parametro step ci indica di quanto si salta da start a stop. Gli esempi che seguiranno chiariranno il tutto. Come al solito, il valore stop non è incluso\n",
    "4. np.linspace(start,stop,step) ==>  stessa cosa di prima, ma invece di creare un range di interi crea un range di float\n",
    "5. np.array.reshape(rows,cols) ==> Crea un array nelle dimensioni specificate. Anche questo sarà più chiaro con gli esempi sottostanti"
   ]
  },
  {
   "cell_type": "code",
   "execution_count": null,
   "id": "8d9e72fb-827a-4d44-b7bb-6100ae735d90",
   "metadata": {},
   "outputs": [],
   "source": []
  },
  {
   "cell_type": "code",
   "execution_count": 4,
   "id": "e4519403-83cb-4543-b1eb-8598756115d5",
   "metadata": {},
   "outputs": [],
   "source": [
    "import numpy as np"
   ]
  },
  {
   "cell_type": "code",
   "execution_count": null,
   "id": "cef9e62c-6a09-4c0c-9aa3-29c0c5ac7c48",
   "metadata": {},
   "outputs": [],
   "source": []
  },
  {
   "cell_type": "markdown",
   "id": "2b36eb78-236a-4d43-8ae4-d6eceeaa871d",
   "metadata": {},
   "source": [
    "np.ones((rows,columns),dtype)"
   ]
  },
  {
   "cell_type": "code",
   "execution_count": null,
   "id": "f6e26212-5f25-4099-9c94-6f53e29fbae6",
   "metadata": {},
   "outputs": [],
   "source": []
  },
  {
   "cell_type": "code",
   "execution_count": 6,
   "id": "843b86cd-3099-485d-87b8-1d72dc9376ff",
   "metadata": {},
   "outputs": [],
   "source": [
    "# Si ricorda che la funzione np.ones genera una matrice di zeri. Le righe di questa matrice sono rows, le colonne sono columns.\n",
    "# In questo primo esempio NON specificheremo il dtype\n",
    "\n",
    "M = np.ones((6,5))"
   ]
  },
  {
   "cell_type": "code",
   "execution_count": 7,
   "id": "2fd6ac0a-bce8-446e-9b45-8c131751c219",
   "metadata": {},
   "outputs": [
    {
     "data": {
      "text/plain": [
       "array([[1., 1., 1., 1., 1.],\n",
       "       [1., 1., 1., 1., 1.],\n",
       "       [1., 1., 1., 1., 1.],\n",
       "       [1., 1., 1., 1., 1.],\n",
       "       [1., 1., 1., 1., 1.],\n",
       "       [1., 1., 1., 1., 1.]])"
      ]
     },
     "execution_count": 7,
     "metadata": {},
     "output_type": "execute_result"
    }
   ],
   "source": [
    "M"
   ]
  },
  {
   "cell_type": "code",
   "execution_count": null,
   "id": "f9b7c4b6-8dc2-429c-98be-2913a06c9daa",
   "metadata": {},
   "outputs": [],
   "source": []
  },
  {
   "cell_type": "code",
   "execution_count": 8,
   "id": "f42519d8-d67b-4c08-ad0e-ce418f3a56c4",
   "metadata": {},
   "outputs": [],
   "source": [
    "# Poichè il dtype non è stato assegnato, abbiamo ottenuto una matrice i cui valori 1 sono float. Per renderli\n",
    "# integer, si avrà che dtype= int\n",
    "\n",
    "M2 = np.ones((6,5),int)"
   ]
  },
  {
   "cell_type": "code",
   "execution_count": 9,
   "id": "56ff5671-857f-4df8-b0bc-43bc464c5ba4",
   "metadata": {},
   "outputs": [
    {
     "data": {
      "text/plain": [
       "array([[1, 1, 1, 1, 1],\n",
       "       [1, 1, 1, 1, 1],\n",
       "       [1, 1, 1, 1, 1],\n",
       "       [1, 1, 1, 1, 1],\n",
       "       [1, 1, 1, 1, 1],\n",
       "       [1, 1, 1, 1, 1]])"
      ]
     },
     "execution_count": 9,
     "metadata": {},
     "output_type": "execute_result"
    }
   ],
   "source": [
    "M2"
   ]
  },
  {
   "cell_type": "code",
   "execution_count": null,
   "id": "a5cb1fc2-2221-4c53-ab52-481b39cb15f5",
   "metadata": {},
   "outputs": [],
   "source": []
  },
  {
   "cell_type": "code",
   "execution_count": 10,
   "id": "53309e2a-78ed-4f74-8ea9-25568b77bb28",
   "metadata": {},
   "outputs": [],
   "source": [
    "# Se vogliamo avere un array unidimensionale (Matrice composta da una sola colonna o vettore colonna) si \n",
    "# dichiara solo il numero delle righe\n",
    "\n",
    "M3 = np.ones((5,))"
   ]
  },
  {
   "cell_type": "code",
   "execution_count": 11,
   "id": "0e8a7d77-63e7-436a-a502-b35cbcc44c29",
   "metadata": {},
   "outputs": [
    {
     "data": {
      "text/plain": [
       "array([1., 1., 1., 1., 1.])"
      ]
     },
     "execution_count": 11,
     "metadata": {},
     "output_type": "execute_result"
    }
   ],
   "source": [
    "M3"
   ]
  },
  {
   "cell_type": "code",
   "execution_count": null,
   "id": "f3b2023b-be9b-489c-adc1-587503448e2f",
   "metadata": {},
   "outputs": [],
   "source": []
  },
  {
   "cell_type": "code",
   "execution_count": 12,
   "id": "31dd56a8-a402-4c98-82a3-de0793a9e9b6",
   "metadata": {},
   "outputs": [],
   "source": [
    "M3 = np.ones(5,)"
   ]
  },
  {
   "cell_type": "code",
   "execution_count": 114,
   "id": "9b6a5d1d-ea4b-40df-977b-effdc65d5866",
   "metadata": {},
   "outputs": [
    {
     "data": {
      "text/plain": [
       "array([1., 1., 1., 1., 1.])"
      ]
     },
     "execution_count": 114,
     "metadata": {},
     "output_type": "execute_result"
    }
   ],
   "source": [
    "M3"
   ]
  },
  {
   "cell_type": "code",
   "execution_count": 13,
   "id": "3eae4475-074f-4f32-8f15-9f4e4cceca7f",
   "metadata": {},
   "outputs": [],
   "source": [
    "# Se vogliamo avere un array unidimensionale ma colonna, ossia una matriche con una matrice con una riga sola\n",
    "# e k colonne, oppure un vettore riga, possoamo trasporre M3"
   ]
  },
  {
   "cell_type": "code",
   "execution_count": 14,
   "id": "e60bfc4f-45ec-47d3-b6da-17416bfe5594",
   "metadata": {},
   "outputs": [
    {
     "data": {
      "text/plain": [
       "array([1., 1., 1., 1., 1.])"
      ]
     },
     "execution_count": 14,
     "metadata": {},
     "output_type": "execute_result"
    }
   ],
   "source": [
    "M3.T"
   ]
  },
  {
   "cell_type": "code",
   "execution_count": null,
   "id": "252ee52f-38b9-44d2-b909-99ebe9ae3f67",
   "metadata": {},
   "outputs": [],
   "source": []
  },
  {
   "cell_type": "code",
   "execution_count": 15,
   "id": "69fcac67-32a2-4252-8019-b2e86c54eb72",
   "metadata": {},
   "outputs": [
    {
     "data": {
      "text/plain": [
       "array([1., 1., 1., 1., 1.])"
      ]
     },
     "execution_count": 15,
     "metadata": {},
     "output_type": "execute_result"
    }
   ],
   "source": [
    "# Oppure\n",
    "M3.T"
   ]
  },
  {
   "cell_type": "code",
   "execution_count": 16,
   "id": "ef1ee5c9-5cc3-46e1-9724-ab3aed66d323",
   "metadata": {},
   "outputs": [],
   "source": [
    "# NON possiamo invece utilizzare la seguente notazione\n",
    "\n",
    "# M3 = np.ones((,5))\n"
   ]
  },
  {
   "cell_type": "code",
   "execution_count": null,
   "id": "9c4fb3a8-1ef7-48e6-8129-d735367ccf26",
   "metadata": {},
   "outputs": [],
   "source": []
  },
  {
   "cell_type": "markdown",
   "id": "3a36bde9-cd37-4cb4-86cd-a61c1f1e3848",
   "metadata": {},
   "source": [
    "Gli esempi visti finora sono identici a quelli che vedremo con np.zeros((rows,columns),dtype)"
   ]
  },
  {
   "cell_type": "code",
   "execution_count": null,
   "id": "10562fe5-8677-4be7-a3ba-33d6423d55ea",
   "metadata": {},
   "outputs": [],
   "source": []
  },
  {
   "cell_type": "code",
   "execution_count": 18,
   "id": "e6ce7170-4822-4319-870b-d7da9f4087e9",
   "metadata": {},
   "outputs": [],
   "source": [
    "M = np.zeros((6,5))"
   ]
  },
  {
   "cell_type": "code",
   "execution_count": 19,
   "id": "cd7a6987-0b75-4a7b-8b4c-2d25ea6fd7d1",
   "metadata": {},
   "outputs": [
    {
     "data": {
      "text/plain": [
       "array([[0., 0., 0., 0., 0.],\n",
       "       [0., 0., 0., 0., 0.],\n",
       "       [0., 0., 0., 0., 0.],\n",
       "       [0., 0., 0., 0., 0.],\n",
       "       [0., 0., 0., 0., 0.],\n",
       "       [0., 0., 0., 0., 0.]])"
      ]
     },
     "execution_count": 19,
     "metadata": {},
     "output_type": "execute_result"
    }
   ],
   "source": [
    "M"
   ]
  },
  {
   "cell_type": "code",
   "execution_count": null,
   "id": "aec50cb2-b3d3-4f7f-a482-e559e8ae1333",
   "metadata": {},
   "outputs": [],
   "source": []
  },
  {
   "cell_type": "code",
   "execution_count": 20,
   "id": "3be88b46-e701-4769-886e-e4832eb7c7fb",
   "metadata": {},
   "outputs": [],
   "source": [
    "M2 = np.ones((6,5),int)"
   ]
  },
  {
   "cell_type": "code",
   "execution_count": 21,
   "id": "7c082731-a6fc-4633-8b0b-70b16a11fee6",
   "metadata": {},
   "outputs": [
    {
     "data": {
      "text/plain": [
       "array([[1, 1, 1, 1, 1],\n",
       "       [1, 1, 1, 1, 1],\n",
       "       [1, 1, 1, 1, 1],\n",
       "       [1, 1, 1, 1, 1],\n",
       "       [1, 1, 1, 1, 1],\n",
       "       [1, 1, 1, 1, 1]])"
      ]
     },
     "execution_count": 21,
     "metadata": {},
     "output_type": "execute_result"
    }
   ],
   "source": [
    "M2"
   ]
  },
  {
   "cell_type": "code",
   "execution_count": null,
   "id": "4c26a6c1-3e92-49a3-9f2b-39257278e0f3",
   "metadata": {},
   "outputs": [],
   "source": []
  },
  {
   "cell_type": "code",
   "execution_count": 22,
   "id": "400389e0-61fd-4572-b4ae-4a6c1ee7311a",
   "metadata": {},
   "outputs": [],
   "source": [
    "M3 = np.ones((5,))"
   ]
  },
  {
   "cell_type": "code",
   "execution_count": 23,
   "id": "252e3739-92bb-4110-80a3-0153f510a852",
   "metadata": {},
   "outputs": [
    {
     "data": {
      "text/plain": [
       "array([1., 1., 1., 1., 1.])"
      ]
     },
     "execution_count": 23,
     "metadata": {},
     "output_type": "execute_result"
    }
   ],
   "source": [
    "M3"
   ]
  },
  {
   "cell_type": "code",
   "execution_count": null,
   "id": "1a1a05fc-d8ad-4c06-8545-34bdc54a3164",
   "metadata": {},
   "outputs": [],
   "source": []
  },
  {
   "cell_type": "code",
   "execution_count": 24,
   "id": "c18f72b5-8e63-4cfc-a1de-6ce81e5e703f",
   "metadata": {},
   "outputs": [
    {
     "data": {
      "text/plain": [
       "array([1., 1., 1., 1., 1.])"
      ]
     },
     "execution_count": 24,
     "metadata": {},
     "output_type": "execute_result"
    }
   ],
   "source": [
    "M3.T"
   ]
  },
  {
   "cell_type": "code",
   "execution_count": null,
   "id": "3335ae61-3afc-4ae2-9ab4-da6b4eab5070",
   "metadata": {},
   "outputs": [],
   "source": []
  },
  {
   "cell_type": "markdown",
   "id": "1dd40bea-ebbb-4f5d-b0ea-ea1938a9734d",
   "metadata": {},
   "source": [
    "Studiamo ora la funzione arange, la cui definizione si trova all'inizio della lezione. Si ricorda che la funzione\n",
    "arange è definita nel seguente modo:\n",
    "\n",
    "np.arange(start,stop,step)"
   ]
  },
  {
   "cell_type": "code",
   "execution_count": null,
   "id": "fb025eeb-aa7a-4b3a-b83b-f9a235622d5b",
   "metadata": {},
   "outputs": [],
   "source": []
  },
  {
   "cell_type": "code",
   "execution_count": 26,
   "id": "1767f6cb-e148-4b10-a2e7-a28f1e2eaee8",
   "metadata": {},
   "outputs": [
    {
     "data": {
      "text/plain": [
       "array([3, 4, 5, 6, 7, 8, 9])"
      ]
     },
     "execution_count": 26,
     "metadata": {},
     "output_type": "execute_result"
    }
   ],
   "source": [
    "# Nel primo caso NON definiremo il parametro step. Come si immagina, supponendo che start sia 3 ed end sia 10, \n",
    "# otterremo il seguente risultato\n",
    "\n",
    "np.arange(3,10)"
   ]
  },
  {
   "cell_type": "code",
   "execution_count": null,
   "id": "68d02bde-f400-4574-a850-bcbfcc954b21",
   "metadata": {},
   "outputs": [],
   "source": []
  },
  {
   "cell_type": "code",
   "execution_count": 27,
   "id": "e3a3d789-6a91-49e8-bc23-c0ba5fc077aa",
   "metadata": {},
   "outputs": [],
   "source": [
    "# Come pronosticato, dato che l'estremo superiore 10 NON è incluso, il nostro array unidimensionale avrà 9 come ultimo elemento "
   ]
  },
  {
   "cell_type": "code",
   "execution_count": null,
   "id": "1e44497e-7e4e-42da-9a42-9cbcee23e23a",
   "metadata": {},
   "outputs": [],
   "source": []
  },
  {
   "cell_type": "code",
   "execution_count": 28,
   "id": "05408b92-3695-4f6d-b149-ce1b3bc01e9b",
   "metadata": {},
   "outputs": [
    {
     "data": {
      "text/plain": [
       "array([3, 5, 7, 9])"
      ]
     },
     "execution_count": 28,
     "metadata": {},
     "output_type": "execute_result"
    }
   ],
   "source": [
    "# Introduciamo ora il parametro step. Questo parametro ci dice che, partendo da 3, si arriva a 10 (escluso) per step.\n",
    "# se step = 2, avremmo che la nostra sequenza sarà:  3 5 7 9\n",
    "\n",
    "np.arange(3,10,2)"
   ]
  },
  {
   "cell_type": "code",
   "execution_count": null,
   "id": "246d1f5a-6909-4529-af3a-f01a98754bbb",
   "metadata": {},
   "outputs": [],
   "source": []
  },
  {
   "cell_type": "markdown",
   "id": "17752af1-1227-41fa-804d-8c0ba7f926b7",
   "metadata": {},
   "source": [
    "Con la funzione arange possiamo anche creare dei numpy array. per farlo, si estende la nostra funzione:\n",
    "np.arange().reshape(n,p),\n",
    "dove n è il numero di array e p è il  numero di elementi di ciascun array.\n",
    "\n",
    "\n",
    "Vediamo un esempio"
   ]
  },
  {
   "cell_type": "code",
   "execution_count": null,
   "id": "8982ff51-f666-4e43-9d3f-143a06e2af1a",
   "metadata": {},
   "outputs": [],
   "source": []
  },
  {
   "cell_type": "code",
   "execution_count": 30,
   "id": "8f6bfb69-c2b4-47f5-aafe-6686ca107497",
   "metadata": {},
   "outputs": [
    {
     "data": {
      "text/plain": [
       "array([[ 4,  6],\n",
       "       [ 8, 10]])"
      ]
     },
     "execution_count": 30,
     "metadata": {},
     "output_type": "execute_result"
    }
   ],
   "source": [
    "np.arange(4,12,2).reshape(2,2)"
   ]
  },
  {
   "cell_type": "code",
   "execution_count": 119,
   "id": "da196295-71fa-4238-b070-6c6a3ebf5f6e",
   "metadata": {},
   "outputs": [
    {
     "data": {
      "text/plain": [
       "array([[ 4,  6,  8],\n",
       "       [10, 12, 14],\n",
       "       [16, 18, 20],\n",
       "       [22, 24, 26],\n",
       "       [28, 30, 32]])"
      ]
     },
     "execution_count": 119,
     "metadata": {},
     "output_type": "execute_result"
    }
   ],
   "source": [
    "np.arange(4,33,2).reshape(5,3)"
   ]
  },
  {
   "cell_type": "code",
   "execution_count": null,
   "id": "379257f6-db1c-4733-967f-c22dd4d869cb",
   "metadata": {},
   "outputs": [],
   "source": []
  },
  {
   "cell_type": "markdown",
   "id": "a7e20bf2-49f6-4c40-bd56-63cec1983503",
   "metadata": {},
   "source": [
    "La fuzione linspace funziona in modo diverso alla funzione arange, Intanto crea elementi di tipo float,\n",
    "np.linspace(start,stop,step)"
   ]
  },
  {
   "cell_type": "code",
   "execution_count": null,
   "id": "5551742d-dadf-43d4-8401-1369004d27ea",
   "metadata": {},
   "outputs": [],
   "source": []
  },
  {
   "cell_type": "code",
   "execution_count": 32,
   "id": "90449b2c-ff2a-404e-ab76-3738b20f6385",
   "metadata": {},
   "outputs": [
    {
     "data": {
      "text/plain": [
       "array([ 8.        ,  8.24489796,  8.48979592,  8.73469388,  8.97959184,\n",
       "        9.2244898 ,  9.46938776,  9.71428571,  9.95918367, 10.20408163,\n",
       "       10.44897959, 10.69387755, 10.93877551, 11.18367347, 11.42857143,\n",
       "       11.67346939, 11.91836735, 12.16326531, 12.40816327, 12.65306122,\n",
       "       12.89795918, 13.14285714, 13.3877551 , 13.63265306, 13.87755102,\n",
       "       14.12244898, 14.36734694, 14.6122449 , 14.85714286, 15.10204082,\n",
       "       15.34693878, 15.59183673, 15.83673469, 16.08163265, 16.32653061,\n",
       "       16.57142857, 16.81632653, 17.06122449, 17.30612245, 17.55102041,\n",
       "       17.79591837, 18.04081633, 18.28571429, 18.53061224, 18.7755102 ,\n",
       "       19.02040816, 19.26530612, 19.51020408, 19.75510204, 20.        ])"
      ]
     },
     "execution_count": 32,
     "metadata": {},
     "output_type": "execute_result"
    }
   ],
   "source": [
    "np.linspace(8,20)"
   ]
  },
  {
   "cell_type": "code",
   "execution_count": null,
   "id": "87c4850d-6a54-45ed-bf3d-90c82d8c66ca",
   "metadata": {},
   "outputs": [],
   "source": []
  },
  {
   "cell_type": "code",
   "execution_count": 33,
   "id": "d9024e57-335e-4003-b9bf-8053a0d7867e",
   "metadata": {},
   "outputs": [],
   "source": [
    "# Che cavolo è successo?? Boh. Sembra che sia obbligatorio definire il parametro step per avere un risultato decente"
   ]
  },
  {
   "cell_type": "code",
   "execution_count": null,
   "id": "930f00c0-e778-4c29-96db-37dad21ee850",
   "metadata": {},
   "outputs": [],
   "source": []
  },
  {
   "cell_type": "code",
   "execution_count": null,
   "id": "0325a6ba-883c-4f48-8574-21d0044198ab",
   "metadata": {},
   "outputs": [],
   "source": []
  },
  {
   "cell_type": "code",
   "execution_count": null,
   "id": "52b854ab-0967-4b21-8330-9de2ad61a64a",
   "metadata": {},
   "outputs": [],
   "source": []
  },
  {
   "cell_type": "code",
   "execution_count": 34,
   "id": "47461a7b-da33-49f1-883f-288b9be5b312",
   "metadata": {},
   "outputs": [],
   "source": [
    "# Ancora non ha senso. Proviamo con step > 1"
   ]
  },
  {
   "cell_type": "code",
   "execution_count": null,
   "id": "d932d4eb-394e-47b9-8e7e-57dd8bee68d4",
   "metadata": {},
   "outputs": [],
   "source": []
  },
  {
   "cell_type": "code",
   "execution_count": 35,
   "id": "dc831bdc-1f82-4943-91c4-cceac718db06",
   "metadata": {},
   "outputs": [
    {
     "data": {
      "text/plain": [
       "array([ 8., 12., 16., 20.])"
      ]
     },
     "execution_count": 35,
     "metadata": {},
     "output_type": "execute_result"
    }
   ],
   "source": [
    "np.linspace(8,20,4)"
   ]
  },
  {
   "cell_type": "code",
   "execution_count": 36,
   "id": "eda2a28b-529b-4b10-a627-d57ffc7e8b69",
   "metadata": {},
   "outputs": [
    {
     "data": {
      "text/plain": [
       "array([ 8., 14., 20.])"
      ]
     },
     "execution_count": 36,
     "metadata": {},
     "output_type": "execute_result"
    }
   ],
   "source": [
    "np.linspace(8,20,3)"
   ]
  },
  {
   "cell_type": "code",
   "execution_count": null,
   "id": "cd7637f0-ad20-48be-b488-e276bdcdffc3",
   "metadata": {},
   "outputs": [],
   "source": []
  },
  {
   "cell_type": "code",
   "execution_count": 37,
   "id": "b67f3d1d-118b-415b-9527-a7dfa7e9e7b1",
   "metadata": {},
   "outputs": [
    {
     "data": {
      "text/plain": [
       "array([ 3.        ,  5.83333333,  8.66666667, 11.5       , 14.33333333,\n",
       "       17.16666667, 20.        ])"
      ]
     },
     "execution_count": 37,
     "metadata": {},
     "output_type": "execute_result"
    }
   ],
   "source": [
    "np.linspace(3,20,7)"
   ]
  },
  {
   "cell_type": "code",
   "execution_count": null,
   "id": "d42ba821-f4e6-4f1f-8176-cdb6fd0cd1e4",
   "metadata": {},
   "outputs": [],
   "source": []
  },
  {
   "cell_type": "code",
   "execution_count": null,
   "id": "e5ad34dd-7dac-4183-86b3-e0806ed3b56e",
   "metadata": {},
   "outputs": [],
   "source": []
  },
  {
   "cell_type": "markdown",
   "id": "a7e7a978-fa01-49da-b323-fae7e9c663ea",
   "metadata": {},
   "source": [
    "Quindi, il codice inserito ci dice che, partendo da 1, si arriva al numero 20 tramite 7 passaggi. \n",
    "Ma come calcoliamo la ragione? Si consideri il seguente teorema.\n",
    "\n",
    "Sia inf l'estermo inferiore (nel nostro esempio 3), e sia sup l'estremo superiore (nel nostro caso 20).\n",
    "Sia p la quantità di numeri necessaria per raggiungere l'estremo superiore (nel nostro caso 7).\n",
    "\n",
    "La ragione sarà: (sup - inf) / (p - 1).\n",
    "\n",
    "Nel nostro esempio: (20 - 3) / (7 -1)\n",
    "\n",
    "==> 17 / 6 \n",
    "==> 2.83333\n",
    "\n",
    "Vediamo quindi se è vero\n",
    "\n"
   ]
  },
  {
   "cell_type": "code",
   "execution_count": null,
   "id": "2b194f20-e068-4c79-b9e7-7d6097ef9b84",
   "metadata": {},
   "outputs": [],
   "source": []
  },
  {
   "cell_type": "code",
   "execution_count": 39,
   "id": "5be8deaf-0658-4342-9b6c-9fc083ecd943",
   "metadata": {},
   "outputs": [
    {
     "data": {
      "text/plain": [
       "5.83333"
      ]
     },
     "execution_count": 39,
     "metadata": {},
     "output_type": "execute_result"
    }
   ],
   "source": [
    "3 + 2.83333"
   ]
  },
  {
   "cell_type": "code",
   "execution_count": 40,
   "id": "f38ba68b-a903-4ac5-8e77-1dceaf0e393e",
   "metadata": {},
   "outputs": [
    {
     "data": {
      "text/plain": [
       "8.66666"
      ]
     },
     "execution_count": 40,
     "metadata": {},
     "output_type": "execute_result"
    }
   ],
   "source": [
    "5.83333 + 2.83333"
   ]
  },
  {
   "cell_type": "code",
   "execution_count": 41,
   "id": "d158c7ec-8be8-4ec8-9033-055f70366598",
   "metadata": {},
   "outputs": [
    {
     "data": {
      "text/plain": [
       "11.49999"
      ]
     },
     "execution_count": 41,
     "metadata": {},
     "output_type": "execute_result"
    }
   ],
   "source": [
    "8.66666 + 2.83333"
   ]
  },
  {
   "cell_type": "code",
   "execution_count": 42,
   "id": "7fae323b-9ccf-4538-aa7a-8a6951585ab6",
   "metadata": {},
   "outputs": [
    {
     "data": {
      "text/plain": [
       "14.33332"
      ]
     },
     "execution_count": 42,
     "metadata": {},
     "output_type": "execute_result"
    }
   ],
   "source": [
    "11.49999 + 2.83333"
   ]
  },
  {
   "cell_type": "code",
   "execution_count": 43,
   "id": "14c037f5-6a23-41ae-81f0-0665cbbbd9e2",
   "metadata": {},
   "outputs": [
    {
     "data": {
      "text/plain": [
       "17.16665"
      ]
     },
     "execution_count": 43,
     "metadata": {},
     "output_type": "execute_result"
    }
   ],
   "source": [
    "14.33332 + 2.83333"
   ]
  },
  {
   "cell_type": "code",
   "execution_count": 44,
   "id": "814d360f-670a-4237-82af-e77d00fdeea5",
   "metadata": {},
   "outputs": [
    {
     "data": {
      "text/plain": [
       "19.99998"
      ]
     },
     "execution_count": 44,
     "metadata": {},
     "output_type": "execute_result"
    }
   ],
   "source": [
    "17.16665 + 2.83333"
   ]
  },
  {
   "cell_type": "code",
   "execution_count": 45,
   "id": "d55a209e-cc3b-4f3a-84a3-87bab643b128",
   "metadata": {},
   "outputs": [],
   "source": [
    "# PERFETTO! Si noti che, a differenza della funzione np.arange, nella funzione np.linspace l'estremo superiore è incluso."
   ]
  },
  {
   "cell_type": "code",
   "execution_count": null,
   "id": "45740265-461c-4198-adaa-c54b02092011",
   "metadata": {},
   "outputs": [],
   "source": []
  },
  {
   "cell_type": "code",
   "execution_count": 133,
   "id": "17e1f23c-8517-4d72-849d-6ceccc8aeeff",
   "metadata": {},
   "outputs": [],
   "source": [
    "# MATRICE IDENTITA. LA MATRICE IDENTITA è UGUALE ALLA SUA TRASPOSTA"
   ]
  },
  {
   "cell_type": "code",
   "execution_count": 125,
   "id": "5a088ab0-d7f5-46eb-9eab-53ccdcc2e0d8",
   "metadata": {},
   "outputs": [
    {
     "data": {
      "text/plain": [
       "array([[1., 0., 0., 0., 0., 0., 0., 0., 0., 0.],\n",
       "       [0., 1., 0., 0., 0., 0., 0., 0., 0., 0.],\n",
       "       [0., 0., 1., 0., 0., 0., 0., 0., 0., 0.],\n",
       "       [0., 0., 0., 1., 0., 0., 0., 0., 0., 0.],\n",
       "       [0., 0., 0., 0., 1., 0., 0., 0., 0., 0.],\n",
       "       [0., 0., 0., 0., 0., 1., 0., 0., 0., 0.],\n",
       "       [0., 0., 0., 0., 0., 0., 1., 0., 0., 0.],\n",
       "       [0., 0., 0., 0., 0., 0., 0., 1., 0., 0.],\n",
       "       [0., 0., 0., 0., 0., 0., 0., 0., 1., 0.],\n",
       "       [0., 0., 0., 0., 0., 0., 0., 0., 0., 1.]])"
      ]
     },
     "execution_count": 125,
     "metadata": {},
     "output_type": "execute_result"
    }
   ],
   "source": [
    "np.identity(10)"
   ]
  },
  {
   "cell_type": "code",
   "execution_count": 131,
   "id": "6f37ea9a-d5b6-4fac-8212-86a38d4ee691",
   "metadata": {},
   "outputs": [
    {
     "data": {
      "text/plain": [
       "array([[1., 0., 0., 0., 0., 0., 0., 0., 0., 0.],\n",
       "       [0., 1., 0., 0., 0., 0., 0., 0., 0., 0.],\n",
       "       [0., 0., 1., 0., 0., 0., 0., 0., 0., 0.],\n",
       "       [0., 0., 0., 1., 0., 0., 0., 0., 0., 0.],\n",
       "       [0., 0., 0., 0., 1., 0., 0., 0., 0., 0.],\n",
       "       [0., 0., 0., 0., 0., 1., 0., 0., 0., 0.],\n",
       "       [0., 0., 0., 0., 0., 0., 1., 0., 0., 0.],\n",
       "       [0., 0., 0., 0., 0., 0., 0., 1., 0., 0.],\n",
       "       [0., 0., 0., 0., 0., 0., 0., 0., 1., 0.],\n",
       "       [0., 0., 0., 0., 0., 0., 0., 0., 0., 1.]])"
      ]
     },
     "execution_count": 131,
     "metadata": {},
     "output_type": "execute_result"
    }
   ],
   "source": [
    "np.identity(10).T"
   ]
  }
 ],
 "metadata": {
  "kernelspec": {
   "display_name": "Python 3 (ipykernel)",
   "language": "python",
   "name": "python3"
  },
  "language_info": {
   "codemirror_mode": {
    "name": "ipython",
    "version": 3
   },
   "file_extension": ".py",
   "mimetype": "text/x-python",
   "name": "python",
   "nbconvert_exporter": "python",
   "pygments_lexer": "ipython3",
   "version": "3.12.4"
  }
 },
 "nbformat": 4,
 "nbformat_minor": 5
}
