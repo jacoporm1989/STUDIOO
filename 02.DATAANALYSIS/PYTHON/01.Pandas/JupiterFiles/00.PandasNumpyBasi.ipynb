{
 "cells": [
  {
   "cell_type": "code",
   "execution_count": 69,
   "id": "a0cba633-f047-4f8a-b841-dc6bc29ff396",
   "metadata": {},
   "outputs": [],
   "source": [
    "# Studio librerie numpy e pandas"
   ]
  },
  {
   "cell_type": "code",
   "execution_count": 71,
   "id": "a1ba0cc6-250a-4892-a7ac-bb389a527038",
   "metadata": {},
   "outputs": [],
   "source": [
    "# A partire da una lista, costruiamo una serie di tipo pandas"
   ]
  },
  {
   "cell_type": "code",
   "execution_count": 13,
   "id": "d7fd1cce-2809-41e5-ad2b-b762bda18e07",
   "metadata": {},
   "outputs": [],
   "source": [
    "import pandas as pd"
   ]
  },
  {
   "cell_type": "code",
   "execution_count": 3,
   "id": "7e565069-4bd7-46b0-826e-7b608c891bdb",
   "metadata": {},
   "outputs": [
    {
     "data": {
      "text/plain": [
       "'2.2.2'"
      ]
     },
     "execution_count": 3,
     "metadata": {},
     "output_type": "execute_result"
    }
   ],
   "source": [
    "pd.__version__"
   ]
  },
  {
   "cell_type": "code",
   "execution_count": 1,
   "id": "ff91e839-8b94-4eb5-89f6-b0d1c5e9bc21",
   "metadata": {},
   "outputs": [],
   "source": [
    "esempio_lista = [\"mela\",\"pera\",\"banana\"]"
   ]
  },
  {
   "cell_type": "code",
   "execution_count": 3,
   "id": "e42bc759-25a6-4e71-a13f-ac251f90fc24",
   "metadata": {},
   "outputs": [
    {
     "data": {
      "text/plain": [
       "['mela', 'pera', 'banana']"
      ]
     },
     "execution_count": 3,
     "metadata": {},
     "output_type": "execute_result"
    }
   ],
   "source": [
    "esempio_lista"
   ]
  },
  {
   "cell_type": "code",
   "execution_count": 7,
   "id": "8f727980-8c98-4ef6-a4ec-4050f33286e4",
   "metadata": {},
   "outputs": [
    {
     "data": {
      "text/plain": [
       "list"
      ]
     },
     "execution_count": 7,
     "metadata": {},
     "output_type": "execute_result"
    }
   ],
   "source": [
    "type(esempio_lista)"
   ]
  },
  {
   "cell_type": "code",
   "execution_count": 15,
   "id": "7b6c0142-1631-423a-9bf0-ded0d56441f8",
   "metadata": {},
   "outputs": [],
   "source": [
    "esempio_series = pd.Series(esempio_lista)"
   ]
  },
  {
   "cell_type": "code",
   "execution_count": 17,
   "id": "5820e55b-e743-414b-a8cc-9118d2bc10f9",
   "metadata": {},
   "outputs": [
    {
     "data": {
      "text/plain": [
       "0      mela\n",
       "1      pera\n",
       "2    banana\n",
       "dtype: object"
      ]
     },
     "execution_count": 17,
     "metadata": {},
     "output_type": "execute_result"
    }
   ],
   "source": [
    "esempio_series"
   ]
  },
  {
   "cell_type": "code",
   "execution_count": 89,
   "id": "2bab6f5a-5074-46ea-8d85-bd81676f1641",
   "metadata": {},
   "outputs": [],
   "source": [
    "# Ovviamente esempio_series è di tipo object, perché tutti gli elementi sono di tipo stringa, e quindi sono oggetti."
   ]
  },
  {
   "cell_type": "code",
   "execution_count": 19,
   "id": "86a36b4d-a2c4-40c4-8484-94cbae9f8133",
   "metadata": {},
   "outputs": [
    {
     "data": {
      "text/plain": [
       "pandas.core.series.Series"
      ]
     },
     "execution_count": 19,
     "metadata": {},
     "output_type": "execute_result"
    }
   ],
   "source": [
    "type(esempio_series)"
   ]
  },
  {
   "cell_type": "code",
   "execution_count": 21,
   "id": "c58309c5-b585-4a8f-a70c-d15fe04bedd7",
   "metadata": {},
   "outputs": [
    {
     "data": {
      "text/plain": [
       "pandas.core.series.Series"
      ]
     },
     "execution_count": 21,
     "metadata": {},
     "output_type": "execute_result"
    }
   ],
   "source": [
    "type(pd.Series(esempio_lista))"
   ]
  },
  {
   "cell_type": "code",
   "execution_count": 23,
   "id": "b0ca807a-b55f-4de0-af62-2c8530dbcbf6",
   "metadata": {},
   "outputs": [
    {
     "data": {
      "text/plain": [
       "pandas.core.series.Series"
      ]
     },
     "execution_count": 23,
     "metadata": {},
     "output_type": "execute_result"
    }
   ],
   "source": [
    "type(pd.Series([\"mela\",\"pera\",\"banana\"]))"
   ]
  },
  {
   "cell_type": "code",
   "execution_count": null,
   "id": "57dd36d1-74d9-4c9c-a02b-4136eafea76e",
   "metadata": {},
   "outputs": [],
   "source": [
    "# Esempio con valori numerici"
   ]
  },
  {
   "cell_type": "code",
   "execution_count": 83,
   "id": "551ff20b-0b56-4d4e-9de6-498777b11ce4",
   "metadata": {},
   "outputs": [],
   "source": [
    "reddito_mensile_lavoratori = [1320.33,1275.34,1533,20,800.00]"
   ]
  },
  {
   "cell_type": "code",
   "execution_count": 85,
   "id": "b9bc804a-abee-4109-8bb2-35234f4ed3cb",
   "metadata": {},
   "outputs": [],
   "source": [
    "reddito_mensile_lavoratori_series = pd.Series(reddito_mensile_lavoratori)"
   ]
  },
  {
   "cell_type": "code",
   "execution_count": 87,
   "id": "5333b2a8-3be0-4683-8ffa-b6d25d8882a5",
   "metadata": {},
   "outputs": [
    {
     "data": {
      "text/plain": [
       "0    1320.33\n",
       "1    1275.34\n",
       "2    1533.00\n",
       "3      20.00\n",
       "4     800.00\n",
       "dtype: float64"
      ]
     },
     "execution_count": 87,
     "metadata": {},
     "output_type": "execute_result"
    }
   ],
   "source": [
    "reddito_mensile_lavoratori_series"
   ]
  },
  {
   "cell_type": "code",
   "execution_count": 33,
   "id": "a6996921-7d18-482d-967d-e831fc383f15",
   "metadata": {},
   "outputs": [
    {
     "data": {
      "text/plain": [
       "pandas.core.series.Series"
      ]
     },
     "execution_count": 33,
     "metadata": {},
     "output_type": "execute_result"
    }
   ],
   "source": [
    "type(reddito_mensile_lavoratori_series)"
   ]
  },
  {
   "cell_type": "code",
   "execution_count": 75,
   "id": "e8174bff-29a0-4e06-892e-c12ea8cd7b98",
   "metadata": {},
   "outputs": [],
   "source": [
    "# Il risultato è una \"tabella\" con due colonne. Questa tabella è di tipo FLOAT, perché tutti gli elementi sono di tipo float. Ovviamente, utilizzando\n",
    "# la funzione type scopriremo che reddito_mensile_lavoratori_series .  Nella prima colonna abbiamo gli indici, nella seconda abbiamo il reddito mensile \n",
    "# dei lavoratori.\n",
    "# Questa tabella ci dice che il lavoratore 0 guadagna 1320.33 euro mensili, il lavoratore 1 ne guadagna 1275, etc"
   ]
  },
  {
   "cell_type": "code",
   "execution_count": 59,
   "id": "bedc6e6d-8faf-4d4b-aa52-989e91337fa7",
   "metadata": {},
   "outputs": [],
   "source": [
    "# Introduciamo ora la libreria numpy. A partire da una lista, possiamo creare un array di tipo ndarray"
   ]
  },
  {
   "cell_type": "code",
   "execution_count": 43,
   "id": "48171d65-2559-4b7b-9e02-04add67785a7",
   "metadata": {},
   "outputs": [],
   "source": [
    "import numpy as np"
   ]
  },
  {
   "cell_type": "code",
   "execution_count": 45,
   "id": "6f308bcc-2560-4858-aea6-2843b873e799",
   "metadata": {},
   "outputs": [],
   "source": [
    "reddito_mensile_lavoratori = ['1320.33','1275.34','1533,20','800.00']"
   ]
  },
  {
   "cell_type": "code",
   "execution_count": 49,
   "id": "81832793-c443-41de-a2b3-92137bc6d14d",
   "metadata": {},
   "outputs": [],
   "source": [
    "reddito_mensile_lavoratori_array_numpy = np.array(reddito_mensile_lavoratori)"
   ]
  },
  {
   "cell_type": "code",
   "execution_count": 51,
   "id": "b591ea8b-feb4-4f5a-a41e-ee9d1c36a935",
   "metadata": {},
   "outputs": [
    {
     "data": {
      "text/plain": [
       "array(['1320.33', '1275.34', '1533,20', '800.00'], dtype='<U7')"
      ]
     },
     "execution_count": 51,
     "metadata": {},
     "output_type": "execute_result"
    }
   ],
   "source": [
    "reddito_mensile_lavoratori_array_numpy"
   ]
  },
  {
   "cell_type": "code",
   "execution_count": 53,
   "id": "cefed5dc-1f36-4bc2-8e58-be1f9d2634c7",
   "metadata": {},
   "outputs": [
    {
     "data": {
      "text/plain": [
       "numpy.ndarray"
      ]
     },
     "execution_count": 53,
     "metadata": {},
     "output_type": "execute_result"
    }
   ],
   "source": [
    "type(reddito_mensile_lavoratori_array_numpy)"
   ]
  },
  {
   "cell_type": "code",
   "execution_count": null,
   "id": "4d0068b0-c77b-4ecb-a1e5-b265c000594a",
   "metadata": {},
   "outputs": [],
   "source": [
    "# Il risultato, è quindi un array n dimensionale."
   ]
  },
  {
   "cell_type": "code",
   "execution_count": 79,
   "id": "b9288353-72d2-46cd-ba14-a4a0d23b7abd",
   "metadata": {},
   "outputs": [
    {
     "data": {
      "text/plain": [
       "'--------------------------------'"
      ]
     },
     "execution_count": 79,
     "metadata": {},
     "output_type": "execute_result"
    }
   ],
   "source": [
    "'--------------------------------'"
   ]
  },
  {
   "cell_type": "code",
   "execution_count": 91,
   "id": "f58711c1-965c-45a8-85fb-b7f0bb51cd25",
   "metadata": {},
   "outputs": [],
   "source": [
    "# Cosa conviene utilizzare tra pandas e numpy?  Si tenga presente che:\n",
    "# 1. Una Serie di tipo pandas è una versione più potente di una lista di python base, ed è una versione migliorata di un array \n",
    "# di tipo numpy\n",
    "#\n",
    "# 2. Pandas ti permette di ottenere qualsiasi informazione dal dataset. Tuttavia, la libreria numpy è più veloce\n",
    "#\n",
    "# 3. Una Series è un'insieme di funzioni che appartengono solo alla libreria pandas. \n",
    "#\n",
    "# 4. GLi elementi di un oggetto di tipo Series hanno un ordinamento, e ciascun valore è relativo ad un determinato indice. "
   ]
  },
  {
   "cell_type": "code",
   "execution_count": null,
   "id": "25740b7a-403f-4d68-949b-7fff5f6ca396",
   "metadata": {},
   "outputs": [],
   "source": []
  },
  {
   "cell_type": "code",
   "execution_count": null,
   "id": "5bd1c1f0-c56e-4b35-878e-974957261918",
   "metadata": {},
   "outputs": [],
   "source": []
  }
 ],
 "metadata": {
  "kernelspec": {
   "display_name": "Python 3 (ipykernel)",
   "language": "python",
   "name": "python3"
  },
  "language_info": {
   "codemirror_mode": {
    "name": "ipython",
    "version": 3
   },
   "file_extension": ".py",
   "mimetype": "text/x-python",
   "name": "python",
   "nbconvert_exporter": "python",
   "pygments_lexer": "ipython3",
   "version": "3.12.4"
  }
 },
 "nbformat": 4,
 "nbformat_minor": 5
}
