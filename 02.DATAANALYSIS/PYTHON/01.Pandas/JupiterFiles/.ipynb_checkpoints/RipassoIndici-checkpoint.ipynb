{
 "cells": [
  {
   "cell_type": "code",
   "execution_count": 60,
   "id": "bdb0a721-b29e-4235-9590-990bc9048921",
   "metadata": {},
   "outputs": [],
   "source": [
    "import pandas as pd"
   ]
  },
  {
   "cell_type": "markdown",
   "id": "e7eb5e03-3cd1-4140-8bc0-2a5c976983dd",
   "metadata": {},
   "source": [
    "Facciamo un breve ripasso. Abbiamo creato delle pandas Series partendo sia dalle liste sia dai dizionari.\n",
    "Partendo dalle liste possiamo accedere ai singoli elementi di una lista tramite la posizione.\n",
    "Partendo dai dizionari possiamo accedere ai singoli elementi sia tramite chiave sia tramite posizione.\n",
    "Ripassiamo il tutto sia partendo dalle liste sia partendo dai dizionari."
   ]
  },
  {
   "cell_type": "markdown",
   "id": "59668f64-3180-4f76-b742-95e1d957ce14",
   "metadata": {},
   "source": [
    "RIPASSO PANDAS SERIES PARTENDO DA UNA LISTA"
   ]
  },
  {
   "cell_type": "code",
   "execution_count": 154,
   "id": "0b019c50-4a72-4b55-a6cb-db24da90c6a8",
   "metadata": {},
   "outputs": [],
   "source": [
    "horror = ['Ragno','Gufo','Pipistrello','Vampiro']"
   ]
  },
  {
   "cell_type": "code",
   "execution_count": 64,
   "id": "d907d028-5041-4e47-b226-e6248759b6bf",
   "metadata": {},
   "outputs": [
    {
     "data": {
      "text/plain": [
       "['Ragno', 'Gufo', 'Pipistrello', 'Vampiro']"
      ]
     },
     "execution_count": 64,
     "metadata": {},
     "output_type": "execute_result"
    }
   ],
   "source": [
    "horror"
   ]
  },
  {
   "cell_type": "code",
   "execution_count": 65,
   "id": "03a04dde-2c10-410a-a6e7-280f259a95c7",
   "metadata": {},
   "outputs": [
    {
     "data": {
      "text/plain": [
       "list"
      ]
     },
     "execution_count": 65,
     "metadata": {},
     "output_type": "execute_result"
    }
   ],
   "source": [
    "type(horror)"
   ]
  },
  {
   "cell_type": "code",
   "execution_count": 156,
   "id": "80f6c34c-651b-487a-9ca5-2146764292e2",
   "metadata": {},
   "outputs": [],
   "source": [
    "horror = pd.Series(horror)"
   ]
  },
  {
   "cell_type": "code",
   "execution_count": 67,
   "id": "553c4e06-47b5-4dd2-9072-c91e06e017ae",
   "metadata": {},
   "outputs": [
    {
     "data": {
      "text/plain": [
       "0          Ragno\n",
       "1           Gufo\n",
       "2    Pipistrello\n",
       "3        Vampiro\n",
       "dtype: object"
      ]
     },
     "execution_count": 67,
     "metadata": {},
     "output_type": "execute_result"
    }
   ],
   "source": [
    "horror"
   ]
  },
  {
   "cell_type": "code",
   "execution_count": 68,
   "id": "3e7b42df-075e-41d9-b631-f5c77936badd",
   "metadata": {},
   "outputs": [
    {
     "data": {
      "text/plain": [
       "pandas.core.series.Series"
      ]
     },
     "execution_count": 68,
     "metadata": {},
     "output_type": "execute_result"
    }
   ],
   "source": [
    "type(horror)"
   ]
  },
  {
   "cell_type": "code",
   "execution_count": 160,
   "id": "79788632-98a4-4b19-ab93-ef7a586a1b1b",
   "metadata": {},
   "outputs": [],
   "source": [
    "gufo = horror[1]"
   ]
  },
  {
   "cell_type": "code",
   "execution_count": 162,
   "id": "8ef0ba53-8c13-4286-a296-f9ffbe776b44",
   "metadata": {},
   "outputs": [
    {
     "data": {
      "text/plain": [
       "'Gufo'"
      ]
     },
     "execution_count": 162,
     "metadata": {},
     "output_type": "execute_result"
    }
   ],
   "source": [
    "gufo"
   ]
  },
  {
   "cell_type": "markdown",
   "id": "c5a9f3d9-b658-4009-abdd-2de6764dd5c3",
   "metadata": {},
   "source": [
    "Per conoscere il numero di elementi della nostra pandas Series si utilizza l'attributo size"
   ]
  },
  {
   "cell_type": "code",
   "execution_count": 164,
   "id": "98db2046-0e56-4557-9779-aa0f84c009d1",
   "metadata": {},
   "outputs": [
    {
     "data": {
      "text/plain": [
       "4"
      ]
     },
     "execution_count": 164,
     "metadata": {},
     "output_type": "execute_result"
    }
   ],
   "source": [
    "horror.size"
   ]
  },
  {
   "cell_type": "markdown",
   "id": "05dec00e-4337-4272-bc55-b1723ff763d5",
   "metadata": {},
   "source": [
    "Per capire il tipo di variabile si utilizza l'attributo dtype. essa è un oggetto"
   ]
  },
  {
   "cell_type": "code",
   "execution_count": 170,
   "id": "41075e42-761e-4890-ac03-8d403dcf377f",
   "metadata": {},
   "outputs": [
    {
     "data": {
      "text/plain": [
       "dtype('O')"
      ]
     },
     "execution_count": 170,
     "metadata": {},
     "output_type": "execute_result"
    }
   ],
   "source": [
    "horror.dtype"
   ]
  },
  {
   "cell_type": "code",
   "execution_count": null,
   "id": "8b0d4f9a-1210-4f6b-a1cd-0f7a699d70a1",
   "metadata": {},
   "outputs": [],
   "source": []
  },
  {
   "cell_type": "markdown",
   "id": "30e5386c-7d50-46c6-982f-a1297def8a4d",
   "metadata": {},
   "source": [
    "Estrazione di tutti i valori da una Series"
   ]
  },
  {
   "cell_type": "code",
   "execution_count": 144,
   "id": "a03d85ae-d9d3-4ec5-ac59-5057a04f36e1",
   "metadata": {},
   "outputs": [
    {
     "data": {
      "text/plain": [
       "array(['Ragno', 'Gufo', 'Pipistrello', 'Vampiro'], dtype=object)"
      ]
     },
     "execution_count": 144,
     "metadata": {},
     "output_type": "execute_result"
    }
   ],
   "source": [
    "horror.values"
   ]
  },
  {
   "cell_type": "markdown",
   "id": "1a2936f3-2aea-4e60-a325-325bc1b0b869",
   "metadata": {},
   "source": [
    "Estrazione di tutte le chiavi da una Series"
   ]
  },
  {
   "cell_type": "code",
   "execution_count": 173,
   "id": "608b4383-ae4b-44cc-92f6-f4ac3ee94465",
   "metadata": {},
   "outputs": [
    {
     "data": {
      "text/plain": [
       "RangeIndex(start=0, stop=4, step=1)"
      ]
     },
     "execution_count": 173,
     "metadata": {},
     "output_type": "execute_result"
    }
   ],
   "source": [
    "horror.keys()"
   ]
  },
  {
   "cell_type": "code",
   "execution_count": null,
   "id": "3c467241-c582-478e-b759-b7bfe35a28e5",
   "metadata": {},
   "outputs": [],
   "source": []
  },
  {
   "cell_type": "markdown",
   "id": "ef7b8b96-3436-4f97-986c-afbb98e0a393",
   "metadata": {},
   "source": [
    "Proviamo a cambiare lista: usiamone una numerica"
   ]
  },
  {
   "cell_type": "code",
   "execution_count": 98,
   "id": "d756d18c-7d8d-433d-b6a0-7abe1f678952",
   "metadata": {},
   "outputs": [],
   "source": [
    "stipendio = [2132.33,1723.9,877.51]\n",
    "stipendio = pd.Series(stipendio)"
   ]
  },
  {
   "cell_type": "code",
   "execution_count": 100,
   "id": "2dc4effc-4cea-4311-8907-bf726a07f6d0",
   "metadata": {},
   "outputs": [
    {
     "data": {
      "text/plain": [
       "0    2132.33\n",
       "1    1723.90\n",
       "2     877.51\n",
       "dtype: float64"
      ]
     },
     "execution_count": 100,
     "metadata": {},
     "output_type": "execute_result"
    }
   ],
   "source": [
    "stipendio"
   ]
  },
  {
   "cell_type": "code",
   "execution_count": 102,
   "id": "9e5870b6-93a5-48c8-87ec-23131b5d4b4a",
   "metadata": {},
   "outputs": [
    {
     "data": {
      "text/plain": [
       "3"
      ]
     },
     "execution_count": 102,
     "metadata": {},
     "output_type": "execute_result"
    }
   ],
   "source": [
    "stipendio.size"
   ]
  },
  {
   "cell_type": "code",
   "execution_count": 104,
   "id": "255d4c48-2fd6-4513-b944-16fc7a97e204",
   "metadata": {},
   "outputs": [
    {
     "data": {
      "text/plain": [
       "dtype('float64')"
      ]
     },
     "execution_count": 104,
     "metadata": {},
     "output_type": "execute_result"
    }
   ],
   "source": [
    "stipendio.dtype"
   ]
  },
  {
   "cell_type": "code",
   "execution_count": null,
   "id": "320eecfe-e8f4-4005-ac55-18e8395608fc",
   "metadata": {},
   "outputs": [],
   "source": []
  },
  {
   "cell_type": "markdown",
   "id": "8c7b72f1-fedd-472d-add1-33ffc1af0f6c",
   "metadata": {},
   "source": [
    "Infatti, gli elementi sono tutti float."
   ]
  },
  {
   "cell_type": "code",
   "execution_count": null,
   "id": "0573f2e7-7588-4603-970d-dc7bcd9b229a",
   "metadata": {},
   "outputs": [],
   "source": []
  },
  {
   "cell_type": "markdown",
   "id": "523d6cc3-3790-4c80-b77d-849c0b435cbf",
   "metadata": {},
   "source": [
    "Abbiamo finora lavorato sui nostri valori, ma ricordiamo che ciascun valore è associato ad una chiave. Come si estraggono\n",
    "le chiavi? Semplice! Si utilizza l'attributo index"
   ]
  },
  {
   "cell_type": "code",
   "execution_count": null,
   "id": "601b2d75-7df5-463b-9db0-73835aea65c2",
   "metadata": {},
   "outputs": [],
   "source": []
  },
  {
   "cell_type": "code",
   "execution_count": 109,
   "id": "977d94d0-632b-498a-9b07-2536abe21265",
   "metadata": {},
   "outputs": [
    {
     "data": {
      "text/plain": [
       "RangeIndex(start=0, stop=3, step=1)"
      ]
     },
     "execution_count": 109,
     "metadata": {},
     "output_type": "execute_result"
    }
   ],
   "source": [
    "stipendio.index"
   ]
  },
  {
   "cell_type": "markdown",
   "id": "f7eeb0c5-bf00-42a0-88cf-20b93389bed6",
   "metadata": {},
   "source": [
    "Le chiavi sono quindi 0,1,2. Perché 3 non viene considerato? Perchè si ricordi che, in python, l'estremo inferiore è\n",
    "compreso, mentre l'estremo inferiore no. "
   ]
  },
  {
   "cell_type": "code",
   "execution_count": null,
   "id": "25724088-94be-4220-8145-0a982fd3b46f",
   "metadata": {},
   "outputs": [],
   "source": []
  },
  {
   "cell_type": "markdown",
   "id": "d1243f7c-82b4-46e1-807c-f4d9993f6444",
   "metadata": {},
   "source": [
    "RIPASSO PANDAS SERIES PARTENDO DA UN DIZIONARIO"
   ]
  },
  {
   "cell_type": "markdown",
   "id": "8259affb-865f-417b-8d69-a89e8246729f",
   "metadata": {},
   "source": [
    "Partire da un dizionario equivale più o meno al partire da una lista, solo che le chiavi non sono posizionali ma sono\n",
    "definite. Quello che vedremo qui è, quindi, più o meno simile a ciò che abbiamo visto con la lista"
   ]
  },
  {
   "cell_type": "code",
   "execution_count": null,
   "id": "a507b49c-a8ad-43b3-b024-3a5a6178a306",
   "metadata": {},
   "outputs": [],
   "source": []
  },
  {
   "cell_type": "code",
   "execution_count": 117,
   "id": "95269828-5080-4b84-b695-8bf05b1799ae",
   "metadata": {},
   "outputs": [],
   "source": [
    "cane = {'inglese':'dog','francese':'chien','spagnolo':'perro'}\n",
    "cane = pd.Series(cane)"
   ]
  },
  {
   "cell_type": "code",
   "execution_count": 119,
   "id": "2a49e529-944d-4be0-8d35-76948611c0c4",
   "metadata": {},
   "outputs": [
    {
     "data": {
      "text/plain": [
       "inglese       dog\n",
       "francese    chien\n",
       "spagnolo    perro\n",
       "dtype: object"
      ]
     },
     "execution_count": 119,
     "metadata": {},
     "output_type": "execute_result"
    }
   ],
   "source": [
    "cane"
   ]
  },
  {
   "cell_type": "code",
   "execution_count": 131,
   "id": "91286526-3289-47bd-a4eb-9a896610f949",
   "metadata": {},
   "outputs": [
    {
     "data": {
      "text/plain": [
       "pandas.core.series.Series"
      ]
     },
     "execution_count": 131,
     "metadata": {},
     "output_type": "execute_result"
    }
   ],
   "source": [
    "type(cane)"
   ]
  },
  {
   "cell_type": "code",
   "execution_count": 121,
   "id": "266a7a04-ebd3-41cc-8f69-83b7d27ba5f8",
   "metadata": {},
   "outputs": [],
   "source": [
    "inglese = cane['inglese']"
   ]
  },
  {
   "cell_type": "code",
   "execution_count": 123,
   "id": "57c0c6fa-41ac-4744-920f-8e8621dc0af5",
   "metadata": {},
   "outputs": [
    {
     "data": {
      "text/plain": [
       "'dog'"
      ]
     },
     "execution_count": 123,
     "metadata": {},
     "output_type": "execute_result"
    }
   ],
   "source": [
    "inglese"
   ]
  },
  {
   "cell_type": "code",
   "execution_count": 127,
   "id": "1bc23d57-ebdb-486c-b6b3-361f39c71a71",
   "metadata": {},
   "outputs": [],
   "source": [
    "inglese = cane.iloc[0]"
   ]
  },
  {
   "cell_type": "code",
   "execution_count": 129,
   "id": "347e6946-960f-4152-806a-d7def2740ae7",
   "metadata": {},
   "outputs": [
    {
     "data": {
      "text/plain": [
       "'dog'"
      ]
     },
     "execution_count": 129,
     "metadata": {},
     "output_type": "execute_result"
    }
   ],
   "source": [
    "inglese"
   ]
  },
  {
   "cell_type": "code",
   "execution_count": null,
   "id": "371ce158-3048-462f-bb78-b9d2f2b9a7f6",
   "metadata": {},
   "outputs": [],
   "source": []
  },
  {
   "cell_type": "markdown",
   "id": "60f3dee1-0aa7-49f9-80a4-f5dc09020ddc",
   "metadata": {},
   "source": [
    "Estrazione di tutti i valori della nostra Series"
   ]
  },
  {
   "cell_type": "code",
   "execution_count": 133,
   "id": "61d5db77-db01-4811-aab3-7b23abc4ee54",
   "metadata": {},
   "outputs": [
    {
     "data": {
      "text/plain": [
       "array(['dog', 'chien', 'perro'], dtype=object)"
      ]
     },
     "execution_count": 133,
     "metadata": {},
     "output_type": "execute_result"
    }
   ],
   "source": [
    "cane.values "
   ]
  },
  {
   "cell_type": "markdown",
   "id": "9ce881b4-d56c-4ec6-a0de-39a02f53c47b",
   "metadata": {},
   "source": [
    "Estrazione di tutte le chiavi della nostra Series"
   ]
  },
  {
   "cell_type": "code",
   "execution_count": 137,
   "id": "5b65412b-ee91-43dd-94bd-b665ced82322",
   "metadata": {},
   "outputs": [
    {
     "data": {
      "text/plain": [
       "Index(['inglese', 'francese', 'spagnolo'], dtype='object')"
      ]
     },
     "execution_count": 137,
     "metadata": {},
     "output_type": "execute_result"
    }
   ],
   "source": [
    "cane.keys()"
   ]
  }
 ],
 "metadata": {
  "kernelspec": {
   "display_name": "Python 3 (ipykernel)",
   "language": "python",
   "name": "python3"
  },
  "language_info": {
   "codemirror_mode": {
    "name": "ipython",
    "version": 3
   },
   "file_extension": ".py",
   "mimetype": "text/x-python",
   "name": "python",
   "nbconvert_exporter": "python",
   "pygments_lexer": "ipython3",
   "version": "3.12.4"
  }
 },
 "nbformat": 4,
 "nbformat_minor": 5
}
