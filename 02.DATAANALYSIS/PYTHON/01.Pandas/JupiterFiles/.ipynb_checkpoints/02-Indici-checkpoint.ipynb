{
 "cells": [
  {
   "cell_type": "markdown",
   "id": "181e4b26-e8f0-41f6-be23-a5c61d3d40e4",
   "metadata": {},
   "source": [
    "INDICI: PARTE 1"
   ]
  },
  {
   "cell_type": "code",
   "execution_count": null,
   "id": "93ad7649-a927-4691-b625-e8dcc5993b3c",
   "metadata": {},
   "outputs": [],
   "source": []
  },
  {
   "cell_type": "code",
   "execution_count": 52,
   "id": "09be35d5-be02-4ddd-b753-f3b7602d0d4f",
   "metadata": {},
   "outputs": [],
   "source": [
    "import pandas as pd"
   ]
  },
  {
   "cell_type": "raw",
   "id": "2ebbcde2-1655-410e-a35a-cab47cad23a5",
   "metadata": {},
   "source": [
    "Lavorare con gli indici è obbligatorio, sia quando si lavora con Pandas sia quando si lavora con la versione base \n",
    "di python. Quello che vedremo ora vale anche per i dataframe."
   ]
  },
  {
   "cell_type": "raw",
   "id": "fe345105-5ef0-4e73-89ec-54d9abcd653e",
   "metadata": {},
   "source": [
    "Nelle lezioni precedenti abbiamo utilizzato pandas a partire da una lista. Per studiare gli indici partiremo ora da \n",
    "un dizionario"
   ]
  },
  {
   "cell_type": "code",
   "execution_count": null,
   "id": "a4ca33b0-f025-4d99-961d-74bb1a668f46",
   "metadata": {},
   "outputs": [],
   "source": []
  },
  {
   "cell_type": "code",
   "execution_count": 53,
   "id": "08a4d318-bb2f-4c1c-99b8-9eabe3a495fa",
   "metadata": {},
   "outputs": [
    {
     "data": {
      "text/plain": [
       "{'mario': 1312.65, 'Ascanio': 1232.49, 'Mortisia': 943.22}"
      ]
     },
     "execution_count": 53,
     "metadata": {},
     "output_type": "execute_result"
    }
   ],
   "source": [
    "stip_mensile = {\"mario\":1312.65,\"Ascanio\":1232.49, \"Mortisia\": 943.22}\n",
    "stip_mensile"
   ]
  },
  {
   "cell_type": "code",
   "execution_count": null,
   "id": "af1348e3-2db0-4514-b0b6-0452dece8995",
   "metadata": {},
   "outputs": [],
   "source": []
  },
  {
   "cell_type": "raw",
   "id": "dfe4be20-8719-4637-9e59-1b73863bb228",
   "metadata": {},
   "source": [
    "Verifichiamo ora che stip_mensile è di tipo dizionario"
   ]
  },
  {
   "cell_type": "code",
   "execution_count": 54,
   "id": "d7ed01b9-265c-49b9-a1f7-201327694b5f",
   "metadata": {},
   "outputs": [
    {
     "data": {
      "text/plain": [
       "dict"
      ]
     },
     "execution_count": 54,
     "metadata": {},
     "output_type": "execute_result"
    }
   ],
   "source": [
    "type(stip_mensile)"
   ]
  },
  {
   "cell_type": "code",
   "execution_count": null,
   "id": "75623d4f-354d-4f05-8f25-4d6e82959c0e",
   "metadata": {},
   "outputs": [],
   "source": []
  },
  {
   "cell_type": "raw",
   "id": "f95fa752-fb60-48a6-83e7-1ef080594488",
   "metadata": {},
   "source": [
    "Trasformiamo ora il nostro dizionario in un oggetto pandas. Per comodità, lo sovrascriveremo"
   ]
  },
  {
   "cell_type": "code",
   "execution_count": 55,
   "id": "3126eb18-8294-4ede-8a10-90e9f1d519c8",
   "metadata": {},
   "outputs": [
    {
     "data": {
      "text/plain": [
       "mario       1312.65\n",
       "Ascanio     1232.49\n",
       "Mortisia     943.22\n",
       "dtype: float64"
      ]
     },
     "execution_count": 55,
     "metadata": {},
     "output_type": "execute_result"
    }
   ],
   "source": [
    "stip_mensile = pd.Series(stip_mensile)\n",
    "stip_mensile"
   ]
  },
  {
   "cell_type": "code",
   "execution_count": 56,
   "id": "b619e059-fb53-4d76-9162-a0eb3165a08e",
   "metadata": {},
   "outputs": [
    {
     "data": {
      "text/plain": [
       "pandas.core.series.Series"
      ]
     },
     "execution_count": 56,
     "metadata": {},
     "output_type": "execute_result"
    }
   ],
   "source": [
    "type(stip_mensile)"
   ]
  },
  {
   "cell_type": "raw",
   "id": "210402b8-3796-40a3-b0aa-5bb3b5e50a5a",
   "metadata": {},
   "source": [
    "Il nostro stip_mensile, quindi, non è più un dizionario, ma è un oggetto di tipo Series, contenuto nella libreria Pandas"
   ]
  },
  {
   "cell_type": "code",
   "execution_count": null,
   "id": "5adcbc76-1f64-443f-9701-1be778208cfb",
   "metadata": {},
   "outputs": [],
   "source": []
  },
  {
   "cell_type": "raw",
   "id": "8559eab8-a9c4-4ae0-b848-469ea8fd1933",
   "metadata": {},
   "source": [
    "Quindi, in definitiva, a cosa servono gli oggetti Series? Questi oggetti ci permettono di separare le chiavi dai valori"
   ]
  },
  {
   "cell_type": "raw",
   "id": "12883b6c-35f7-465e-9abe-c3977f9295e4",
   "metadata": {},
   "source": [
    "Utilizzando l'attributo index otterremo un oggetto di tipo Index, nel quale saranno inserite tutte le chiavi del nostro oggetto di tipo \n",
    "Series (che ricordiamo derivare da un dizionario"
   ]
  },
  {
   "cell_type": "code",
   "execution_count": null,
   "id": "9f74d609-3399-4521-b8f2-9cb95e07a365",
   "metadata": {},
   "outputs": [],
   "source": []
  },
  {
   "cell_type": "code",
   "execution_count": null,
   "id": "3f856b7a-2d6a-4fe8-bec1-da5712809e0d",
   "metadata": {},
   "outputs": [],
   "source": []
  },
  {
   "cell_type": "code",
   "execution_count": 58,
   "id": "ae610316-32b2-49a8-9523-e8df0cd11c20",
   "metadata": {},
   "outputs": [
    {
     "data": {
      "text/plain": [
       "Index(['mario', 'Ascanio', 'Mortisia'], dtype='object')"
      ]
     },
     "execution_count": 58,
     "metadata": {},
     "output_type": "execute_result"
    }
   ],
   "source": [
    "stip_mensile.index"
   ]
  },
  {
   "cell_type": "code",
   "execution_count": 60,
   "id": "acab3d3d-14fd-4e69-9b17-aad0f11baa92",
   "metadata": {},
   "outputs": [
    {
     "data": {
      "text/plain": [
       "pandas.core.indexes.base.Index"
      ]
     },
     "execution_count": 60,
     "metadata": {},
     "output_type": "execute_result"
    }
   ],
   "source": [
    "type(stip_mensile.index)"
   ]
  },
  {
   "cell_type": "code",
   "execution_count": null,
   "id": "a638687b-c09c-4aae-8185-7a91cf723514",
   "metadata": {},
   "outputs": [],
   "source": []
  },
  {
   "cell_type": "raw",
   "id": "d5953e65-b455-4bdf-88c3-83f367b74b02",
   "metadata": {},
   "source": [
    "In sintesi, i nostri valori, ossia nel nostro caso gli stipendi mensili, si trovano in una porzione di memoria, e ciascun\n",
    "indice punta a quell'indirizzo di memoria.  In altre parole, gli indici sono oggetti separati, e devono\n",
    "essere trattati come tali."
   ]
  },
  {
   "cell_type": "code",
   "execution_count": null,
   "id": "246692f2-7242-4aae-83f5-d6263d2680c5",
   "metadata": {},
   "outputs": [],
   "source": []
  },
  {
   "cell_type": "markdown",
   "id": "55bf419a-32b3-4f20-8af8-8cd086095404",
   "metadata": {},
   "source": [
    "ESERCIZI"
   ]
  },
  {
   "cell_type": "code",
   "execution_count": null,
   "id": "bd033716-2dd9-448d-a3b9-44d726062d25",
   "metadata": {},
   "outputs": [],
   "source": []
  },
  {
   "cell_type": "markdown",
   "id": "2661404d-9813-4ef7-b5fe-014cfc1e8ceb",
   "metadata": {},
   "source": [
    "ESERCIZIO 1: \n",
    "\n",
    "Create a dictionary named workers_age where the keys are the names of the employees and their corresponding ages are the integer values. The employees' names and their ages are as follows:\r\n",
    "\r\n",
    "Amy White, 50\r\n",
    "\r\n",
    "Jack Stewart, 53\r\n",
    "\r\n",
    "Richard Lauderdale, 35\r\n",
    "\r\n",
    "Sara Johnson, 43."
   ]
  },
  {
   "cell_type": "code",
   "execution_count": null,
   "id": "d54cca10-2837-4ae8-bef3-2cac531a193f",
   "metadata": {},
   "outputs": [],
   "source": []
  },
  {
   "cell_type": "markdown",
   "id": "36ddfcfa-4241-408e-a730-59816dd3860e",
   "metadata": {},
   "source": [
    "SOLUZIONE"
   ]
  },
  {
   "cell_type": "code",
   "execution_count": 2,
   "id": "6de34115-6651-4648-be0e-7f6eeac4047e",
   "metadata": {},
   "outputs": [
    {
     "name": "stdout",
     "output_type": "stream",
     "text": [
      "{'Amy White': 50, 'Jack Stewart': 53, 'Richard Lauderdale': 35, 'Sara Johnson': 43}\n"
     ]
    }
   ],
   "source": [
    "workers_age = {'Amy White': 50, 'Jack Stewart':53,'Richard Lauderdale': 35, 'Sara Johnson' : 43 }\n",
    "\n",
    "print(workers_age)"
   ]
  },
  {
   "cell_type": "code",
   "execution_count": null,
   "id": "729d4f63-6602-4c68-8f33-98478d2d47e5",
   "metadata": {},
   "outputs": [],
   "source": []
  },
  {
   "cell_type": "markdown",
   "id": "d63322f7-ce84-48a4-a38c-bdcd5af48118",
   "metadata": {},
   "source": [
    "Exercise #2\r\n",
    "Verify the type of workers_age is a dictionary."
   ]
  },
  {
   "cell_type": "markdown",
   "id": "dd606a4b-d333-4fe1-8884-333cdc693b5b",
   "metadata": {},
   "source": [
    "SOLUZIONE"
   ]
  },
  {
   "cell_type": "code",
   "execution_count": 4,
   "id": "3d0f9814-55a0-422e-9b2b-dc2eaf1a4b6f",
   "metadata": {},
   "outputs": [
    {
     "name": "stdout",
     "output_type": "stream",
     "text": [
      "<class 'dict'>\n"
     ]
    }
   ],
   "source": [
    "workers_age = {'Amy White':50, 'Jack Stewart':53, 'Richard Lauderdale':35, 'Sara Johnson':43}\n",
    "\n",
    "print(type(workers_age))"
   ]
  },
  {
   "cell_type": "code",
   "execution_count": null,
   "id": "49903ca9-d123-4410-be35-e750d417cc7c",
   "metadata": {},
   "outputs": [],
   "source": []
  },
  {
   "cell_type": "markdown",
   "id": "e531b93f-2e63-411d-8ea4-4b9ea08a0c24",
   "metadata": {},
   "source": [
    "Exercise #3\r\n",
    "Create a Series from workers_age, giving it the same name.\r\n",
    "\r\n",
    "Confirm that the task was done correctly by printing out the contents of the newly created object."
   ]
  },
  {
   "cell_type": "markdown",
   "id": "9e2f567a-9eae-49f9-933d-9cd1bec79d82",
   "metadata": {},
   "source": [
    "SOLUZIONE"
   ]
  },
  {
   "cell_type": "code",
   "execution_count": 8,
   "id": "89470ee8-45ec-4071-b548-3b440266fdb2",
   "metadata": {
    "scrolled": true
   },
   "outputs": [
    {
     "name": "stdout",
     "output_type": "stream",
     "text": [
      "Amy White             50\n",
      "Jack Stewart          53\n",
      "Richard Lauderdale    35\n",
      "Sara Johnson          43\n",
      "dtype: int64\n"
     ]
    }
   ],
   "source": [
    "import pandas as pd\n",
    "\n",
    "workers_age = {'Amy White':50, 'Jack Stewart':53, 'Richard Lauderdale':35, 'Sara Johnson':43}\n",
    "\n",
    "workers_age = pd.Series(workers_age)\n",
    "\n",
    "print(workers_age)"
   ]
  },
  {
   "cell_type": "code",
   "execution_count": null,
   "id": "83a4fd51-e8b8-487b-a808-756cb3e372fd",
   "metadata": {},
   "outputs": [],
   "source": []
  },
  {
   "cell_type": "markdown",
   "id": "f00624c9-c134-402e-98b6-fd006c3f1527",
   "metadata": {},
   "source": [
    "Exercise #4\r\n",
    "Verify workers_age is a Series object."
   ]
  },
  {
   "cell_type": "markdown",
   "id": "a60da144-afdc-4977-8947-e9b8f0634f7b",
   "metadata": {},
   "source": [
    "SOLUZIONE"
   ]
  },
  {
   "cell_type": "code",
   "execution_count": 11,
   "id": "26819e2f-ac90-4d1b-bab5-b77343b573ef",
   "metadata": {},
   "outputs": [
    {
     "name": "stdout",
     "output_type": "stream",
     "text": [
      "<class 'pandas.core.series.Series'>\n"
     ]
    }
   ],
   "source": [
    "import pandas as pd\n",
    "\n",
    "workers_age = {'Amy White':50, 'Jack Stewart':53, 'Richard Lauderdale':35, 'Sara Johnson':43}\n",
    "workers_age = pd.Series(workers_age)\n",
    "\n",
    "print(type(workers_age))"
   ]
  },
  {
   "cell_type": "code",
   "execution_count": null,
   "id": "6d0f0131-cc8f-445e-bd2a-4acd8d208fec",
   "metadata": {},
   "outputs": [],
   "source": []
  },
  {
   "cell_type": "markdown",
   "id": "a7d432cb-1c44-4ae1-ab09-a6357e8346ed",
   "metadata": {},
   "source": [
    "Exercise #5\r\n",
    "Retrieve the index of workers_age."
   ]
  },
  {
   "cell_type": "markdown",
   "id": "283acc07-8349-40cb-b704-44aef38dab7c",
   "metadata": {},
   "source": [
    "SOLUZIONE"
   ]
  },
  {
   "cell_type": "code",
   "execution_count": 14,
   "id": "8033025b-1503-4bf7-8070-dc0d1c519d07",
   "metadata": {},
   "outputs": [
    {
     "name": "stdout",
     "output_type": "stream",
     "text": [
      "Index(['Amy White', 'Jack Stewart', 'Richard Lauderdale', 'Sara Johnson'], dtype='object')\n"
     ]
    }
   ],
   "source": [
    "import pandas as pd\n",
    "\n",
    "workers_age = {'Amy White':50, 'Jack Stewart':53, 'Richard Lauderdale':35, 'Sara Johnson':43}\n",
    "workers_age = pd.Series(workers_age)\n",
    "\n",
    "print(workers_age.index)"
   ]
  },
  {
   "cell_type": "code",
   "execution_count": null,
   "id": "759f4cc8-110c-4857-8dfd-14af5f7e51d4",
   "metadata": {},
   "outputs": [],
   "source": []
  },
  {
   "cell_type": "markdown",
   "id": "4a748d87-753f-4502-bd3c-cbcb3cbf8977",
   "metadata": {},
   "source": [
    "INDICI: PARTE 2"
   ]
  },
  {
   "cell_type": "code",
   "execution_count": null,
   "id": "44f4afc5-9eda-4b36-b3fe-b9582a9afcd0",
   "metadata": {},
   "outputs": [],
   "source": []
  },
  {
   "cell_type": "markdown",
   "id": "19527cb0-a2f2-4905-9583-5e86c86d0261",
   "metadata": {},
   "source": [
    "Abbiamo visto fin qui le pandas Series. Ricordiamo brevemente cos'è una Series di tipo pandas, come si estraggono gli indici e come verificarne la tipologia."
   ]
  },
  {
   "cell_type": "code",
   "execution_count": 19,
   "id": "aea6b31e-8b60-47b1-b256-e7df79f7b18d",
   "metadata": {},
   "outputs": [
    {
     "name": "stdout",
     "output_type": "stream",
     "text": [
      "Amy White             50\n",
      "Jack Stewart          53\n",
      "Richard Lauderdale    35\n",
      "Sara Johnson          43\n",
      "dtype: int64\n"
     ]
    }
   ],
   "source": [
    "import pandas as pd\n",
    "\n",
    "workers_age = {'Amy White':50, 'Jack Stewart':53, 'Richard Lauderdale':35, 'Sara Johnson':43}\n",
    "\n",
    "workers_age = pd.Series(workers_age)\n",
    "\n",
    "print(workers_age)"
   ]
  },
  {
   "cell_type": "code",
   "execution_count": 21,
   "id": "f8942393-b303-48bc-8c45-0cd63cf89c1f",
   "metadata": {},
   "outputs": [
    {
     "data": {
      "text/plain": [
       "pandas.core.series.Series"
      ]
     },
     "execution_count": 21,
     "metadata": {},
     "output_type": "execute_result"
    }
   ],
   "source": [
    "type(workers_age)\n"
   ]
  },
  {
   "cell_type": "code",
   "execution_count": 25,
   "id": "d0077c00-996d-4bd4-8bf7-501411a653db",
   "metadata": {},
   "outputs": [
    {
     "data": {
      "text/plain": [
       "Index(['Amy White', 'Jack Stewart', 'Richard Lauderdale', 'Sara Johnson'], dtype='object')"
      ]
     },
     "execution_count": 25,
     "metadata": {},
     "output_type": "execute_result"
    }
   ],
   "source": [
    "workers_age.index"
   ]
  },
  {
   "cell_type": "code",
   "execution_count": 27,
   "id": "9709d3a1-7068-4f5b-9fe0-23c34d902cdb",
   "metadata": {},
   "outputs": [
    {
     "data": {
      "text/plain": [
       "pandas.core.indexes.base.Index"
      ]
     },
     "execution_count": 27,
     "metadata": {},
     "output_type": "execute_result"
    }
   ],
   "source": [
    "type(workers_age.index)"
   ]
  },
  {
   "cell_type": "code",
   "execution_count": null,
   "id": "53131829-39b8-4526-99d4-b523a690ea81",
   "metadata": {},
   "outputs": [],
   "source": []
  },
  {
   "cell_type": "markdown",
   "id": "670fc1bf-29c3-44b8-99e3-e4e020bb36d0",
   "metadata": {},
   "source": [
    "Gli indici delle pandas series sono delle strutture dati molto solide. Le strutture dati possono essere implicite o esplicite"
   ]
  },
  {
   "cell_type": "code",
   "execution_count": null,
   "id": "cede1708-faf4-4dd3-9a02-47bc027fa9b2",
   "metadata": {},
   "outputs": [],
   "source": []
  },
  {
   "cell_type": "markdown",
   "id": "fbc831e9-b5c1-4ce6-8149-561e30d0be33",
   "metadata": {},
   "source": [
    "Riprendiamo la nostra pandas series workers_age:"
   ]
  },
  {
   "cell_type": "code",
   "execution_count": 34,
   "id": "a525aed5-b453-4668-9bf4-77e2d539c7bc",
   "metadata": {},
   "outputs": [
    {
     "name": "stdout",
     "output_type": "stream",
     "text": [
      "Amy White             50\n",
      "Jack Stewart          53\n",
      "Richard Lauderdale    35\n",
      "Sara Johnson          43\n",
      "dtype: int64\n"
     ]
    }
   ],
   "source": [
    "import pandas as pd\n",
    "\n",
    "workers_age = {'Amy White':50, 'Jack Stewart':53, 'Richard Lauderdale':35, 'Sara Johnson':43}\n",
    "\n",
    "workers_age = pd.Series(workers_age)\n",
    "\n",
    "print(workers_age)"
   ]
  },
  {
   "cell_type": "code",
   "execution_count": null,
   "id": "f4f66055-cfaa-4d90-9503-b7cf851a767e",
   "metadata": {},
   "outputs": [],
   "source": []
  },
  {
   "cell_type": "markdown",
   "id": "59eefd7c-377d-47c8-83a7-810c5e220c11",
   "metadata": {},
   "source": [
    "Così come nei dizionari, abbiamo a che fare con coppie chiave-valore. Possiamo accedere ad un determinato valore in due modi:\n",
    "sia tramite la chiave, sia tramite la posizione. Consideriamo, ad esempio, il numero 35. Possiamo accedervi tramite la chiave\n",
    "'Richard Lauderlale' o tramite la posizione 2"
   ]
  },
  {
   "cell_type": "code",
   "execution_count": null,
   "id": "ee696653-2d65-449e-9bce-eb6abfbaf9ef",
   "metadata": {},
   "outputs": [],
   "source": []
  },
  {
   "cell_type": "code",
   "execution_count": 48,
   "id": "8aadb98d-89c2-4c59-803d-1543f8320b4c",
   "metadata": {},
   "outputs": [
    {
     "data": {
      "text/plain": [
       "35"
      ]
     },
     "execution_count": 48,
     "metadata": {},
     "output_type": "execute_result"
    }
   ],
   "source": [
    "workers_age['Richard Lauderdale']"
   ]
  },
  {
   "cell_type": "code",
   "execution_count": null,
   "id": "9dcd43cc-ea25-4774-8d12-1d9599a4c706",
   "metadata": {},
   "outputs": [],
   "source": []
  },
  {
   "cell_type": "code",
   "execution_count": 50,
   "id": "2c620d12-6e0e-48f2-8da1-70f0e5459eb8",
   "metadata": {},
   "outputs": [
    {
     "name": "stderr",
     "output_type": "stream",
     "text": [
      "C:\\Users\\jgian\\AppData\\Local\\Temp\\ipykernel_12480\\1410942056.py:1: FutureWarning: Series.__getitem__ treating keys as positions is deprecated. In a future version, integer keys will always be treated as labels (consistent with DataFrame behavior). To access a value by position, use `ser.iloc[pos]`\n",
      "  workers_age[2]\n"
     ]
    },
    {
     "data": {
      "text/plain": [
       "35"
      ]
     },
     "execution_count": 50,
     "metadata": {},
     "output_type": "execute_result"
    }
   ],
   "source": [
    "workers_age[2]"
   ]
  },
  {
   "cell_type": "code",
   "execution_count": null,
   "id": "8ee73b57-fa5a-4640-9177-002049de251c",
   "metadata": {},
   "outputs": [],
   "source": []
  },
  {
   "cell_type": "code",
   "execution_count": 52,
   "id": "363e9141-03cc-4fc0-9a6b-4c8ce269a0ac",
   "metadata": {},
   "outputs": [
    {
     "data": {
      "text/plain": [
       "35"
      ]
     },
     "execution_count": 52,
     "metadata": {},
     "output_type": "execute_result"
    }
   ],
   "source": [
    "workers_age.iloc[2]"
   ]
  },
  {
   "cell_type": "code",
   "execution_count": null,
   "id": "76fcdaa6-3a52-4a4a-bae5-57ba0e1d704c",
   "metadata": {},
   "outputs": [],
   "source": []
  },
  {
   "cell_type": "markdown",
   "id": "f180885d-cf85-4a44-8877-88c960419324",
   "metadata": {},
   "source": [
    "Quindi, per accedere tramite posizione, non si usa più la notazione workers_age[2] ma la notazione workers_age.iloc[2] "
   ]
  },
  {
   "cell_type": "code",
   "execution_count": null,
   "id": "02e35ae6-dbd7-480f-9c26-e5292ae552b1",
   "metadata": {},
   "outputs": [],
   "source": []
  },
  {
   "cell_type": "code",
   "execution_count": null,
   "id": "111d9948-0df2-4ea6-848d-22380afa1e78",
   "metadata": {},
   "outputs": [],
   "source": []
  },
  {
   "cell_type": "markdown",
   "id": "a8bc88d1-9948-4572-86e2-1c1450e1801e",
   "metadata": {},
   "source": [
    "ESERCIZI"
   ]
  },
  {
   "cell_type": "code",
   "execution_count": null,
   "id": "429b3f0b-a421-4624-8a02-ce3ef914d86f",
   "metadata": {},
   "outputs": [],
   "source": []
  },
  {
   "cell_type": "markdown",
   "id": "119bf7d9-c097-4f9e-98a7-2831af85879e",
   "metadata": {},
   "source": [
    "Exercise #1\n",
    "Create a pandas Series object from a dictionary with keys \"Martin\" and \"George\" and values 8 and 5, respectively. \n",
    "Call this Series employees_work_exp, as from \"workers work experience\"."
   ]
  },
  {
   "cell_type": "code",
   "execution_count": null,
   "id": "52b96d36-c607-4fb4-8c97-e4256efd187f",
   "metadata": {},
   "outputs": [],
   "source": []
  },
  {
   "cell_type": "markdown",
   "id": "fddcaa9f-8d9d-4a70-baa0-9f02a3260629",
   "metadata": {},
   "source": [
    "SOLUZIONE"
   ]
  },
  {
   "cell_type": "code",
   "execution_count": 60,
   "id": "f55d8f20-0d29-4520-b2f5-e4309aee7582",
   "metadata": {},
   "outputs": [
    {
     "name": "stdout",
     "output_type": "stream",
     "text": [
      "Martin    8\n",
      "George    5\n",
      "dtype: int64\n"
     ]
    }
   ],
   "source": [
    "\n",
    "import pandas as pd\n",
    "\n",
    "workers_work_experience = {'Martin':8, 'George': 5}\n",
    "\n",
    "\n",
    "employees_work_exp = pd.Series(workers_work_experience)\n",
    "\n",
    "print(employees_work_exp)"
   ]
  },
  {
   "cell_type": "code",
   "execution_count": null,
   "id": "d8f85489-097f-4e88-bdb2-07c2cf6348a7",
   "metadata": {},
   "outputs": [],
   "source": []
  },
  {
   "cell_type": "code",
   "execution_count": null,
   "id": "abfe0f74-b54a-4133-b6b0-9ee6fc3fca8d",
   "metadata": {},
   "outputs": [],
   "source": [
    "Exercise #2\n",
    "Retrieve the index values of employees_work_exp to confirm they are labels.\n"
   ]
  },
  {
   "cell_type": "markdown",
   "id": "f6bce479-f065-4ebd-9ec7-61d9ea69a728",
   "metadata": {},
   "source": [
    "SOLUZIONE"
   ]
  },
  {
   "cell_type": "code",
   "execution_count": 63,
   "id": "a9cf1ee4-95c4-4b82-bd7e-1b437bc14267",
   "metadata": {},
   "outputs": [
    {
     "name": "stdout",
     "output_type": "stream",
     "text": [
      "Index(['Martin', 'George'], dtype='object')\n"
     ]
    }
   ],
   "source": [
    "import pandas as pd\n",
    "\n",
    "employees_work_exp = pd.Series({'Martin':8, 'George':5})\n",
    "\n",
    "print(employees_work_exp.index)"
   ]
  }
 ],
 "metadata": {
  "kernelspec": {
   "display_name": "Python 3 (ipykernel)",
   "language": "python",
   "name": "python3"
  },
  "language_info": {
   "codemirror_mode": {
    "name": "ipython",
    "version": 3
   },
   "file_extension": ".py",
   "mimetype": "text/x-python",
   "name": "python",
   "nbconvert_exporter": "python",
   "pygments_lexer": "ipython3",
   "version": "3.12.4"
  }
 },
 "nbformat": 4,
 "nbformat_minor": 5
}
